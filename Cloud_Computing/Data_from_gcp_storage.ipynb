{
 "cells": [
  {
   "cell_type": "markdown",
   "metadata": {},
   "source": [
    "Reading data into a pandas dataframe is super easy in Google Cloud Platform.\n",
    "\n",
    "Using pandas you can read in your csv file directly from the google storage bucket by specifiying the path as the path to the bucket using this naming format `gs://<bucket_name>/<file_path>`"
   ]
  },
  {
   "cell_type": "code",
   "execution_count": null,
   "metadata": {},
   "outputs": [],
   "source": [
    "import pandas as pd"
   ]
  },
  {
   "cell_type": "code",
   "execution_count": null,
   "metadata": {},
   "outputs": [],
   "source": [
    "df = pd.read_csv('gs://demo-spotify/top50.csv', encoding = 'latin1')"
   ]
  },
  {
   "cell_type": "code",
   "execution_count": null,
   "metadata": {},
   "outputs": [],
   "source": [
    "df"
   ]
  },
  {
   "cell_type": "markdown",
   "metadata": {},
   "source": [
    "What if you have image data you are using?  Well here's how you can download the images directly from the bucket."
   ]
  },
  {
   "cell_type": "code",
   "execution_count": 5,
   "metadata": {},
   "outputs": [],
   "source": [
    "from google.cloud import storage\n",
    "\n",
    "#instantiate a client\n",
    "storage_client = storage.Client()\n",
    "\n",
    "#define bucket you want to read from\n",
    "bucket = storage_client.bucket('beautycounter-data')  #replace with your bucket name\n",
    "#create a blob of the file you want to download\n",
    "blob = bucket.blob('beautycounter.zip') #replace wuth your object name\n",
    "#download your file\n",
    "blob.download_to_filename('beautycounter-images') #replace with destination file name"
   ]
  },
  {
   "cell_type": "code",
   "execution_count": null,
   "metadata": {},
   "outputs": [],
   "source": [
    "#unzip files\n",
    "!unzip beautycounter-images"
   ]
  },
  {
   "cell_type": "code",
   "execution_count": null,
   "metadata": {},
   "outputs": [],
   "source": []
  }
 ],
 "metadata": {
  "kernelspec": {
   "display_name": "Python 3",
   "language": "python",
   "name": "python3"
  },
  "language_info": {
   "codemirror_mode": {
    "name": "ipython",
    "version": 3
   },
   "file_extension": ".py",
   "mimetype": "text/x-python",
   "name": "python",
   "nbconvert_exporter": "python",
   "pygments_lexer": "ipython3",
   "version": "3.5.3"
  }
 },
 "nbformat": 4,
 "nbformat_minor": 4
}

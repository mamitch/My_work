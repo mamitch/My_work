{
 "cells": [
  {
   "cell_type": "markdown",
   "metadata": {
    "colab_type": "text",
    "id": "fKfXbf2Ourkm"
   },
   "source": [
    "# Building a Movie Recommendation System in PySpark - Lab Code-along\n",
    "![images of vhs tapes on shelf](img/movies.jpg)"
   ]
  },
  {
   "cell_type": "markdown",
   "metadata": {
    "colab_type": "text",
    "id": "nydJ-BIhurkn"
   },
   "source": [
    "## Introduction\n",
    "\n",
    "In this last lab, we will implement a a movie recommendation system using Alternating Least Squares (ALS) in Spark programming environment.<br> Spark's machine learning libraray `ml` comes packaged with a very efficient imeplementation of ALS algorithm. \n",
    "\n",
    "The lab will require you to put into pratice your spark programming skills for creating and manipulating pyspark DataFrames. We will go through a step-by-step process into developing a movie recommendation system using ALS and pyspark using the MovieLens Dataset.\n",
    "\n",
    "Note: You are advised to refer to [PySpark Documentation](http://spark.apache.org/docs/2.2.0/api/python/index.html) heavily for completing this lab as it will introduce a few new methods. "
   ]
  },
  {
   "cell_type": "markdown",
   "metadata": {
    "colab_type": "text",
    "id": "6zew458Xurkn"
   },
   "source": [
    "## Objectives\n",
    "\n",
    "You will be able to:\n",
    "\n",
    "* Identify the key components of the ALS \n",
    "* Demonstrate an understanding on how recommendation systems are being used for personalization of online services/products\n",
    "* Parse and filter datasets into Spark DataFrame, performing basic feature selection\n",
    "* Run a brief hyper-parameter selection activity through a scalable grid search\n",
    "* Train and evaluate the predictive performance of recommendation system\n",
    "* Generate predictions from the trained model"
   ]
  },
  {
   "cell_type": "markdown",
   "metadata": {
    "colab_type": "text",
    "id": "OaxKhsoNurko"
   },
   "source": [
    "## Building a Recommendation System\n",
    "\n",
    "We have seen how recommender/Recommendation Systems have played an  integral parts in the success of Amazon (Books, Items), Pandora/Spotify (Music), Google (News, Search), YouTube (Videos) etc.  For Amazon these systems bring more than 30% of their total revenues. For Netflix service, 75% of movies that people watch are based on some sort of recommendation.\n",
    "\n",
    "> The goal of Recommendation Systems is to find what is likely to be of interest to the user. This enables organizations to offer a high level of personalization and customer tailored services."
   ]
  },
  {
   "cell_type": "markdown",
   "metadata": {
    "colab_type": "text",
    "id": "2On6400xurko"
   },
   "source": [
    "### We sort of get the concept\n",
    "\n",
    "For online video content services like Netflix and Hulu, the need to build robust movie recommendation systems is extremely important. An example of recommendation system is such as this:\n",
    "\n",
    "1.    User A watches Game of Thrones and Breaking Bad.\n",
    "2.    User B performs a search query for Game of Thrones.\n",
    "3.    The system suggests Breaking Bad to user B from data collected about user A.\n",
    "\n",
    "\n",
    "This lab will guide you through a step-by-step process into developing such a movie recommendation system. We will use the MovieLens dataset to build a movie recommendation system using the collaborative filtering technique with Spark's Alternating Least Saqures implementation. After building that recommendation system, we will go through the process of adding a new user to the dataset with some new ratings and obtaining new recommendations for that user."
   ]
  },
  {
   "cell_type": "markdown",
   "metadata": {
    "colab_type": "text",
    "id": "7QYIkXHzurko"
   },
   "source": [
    "## Will Nightengale like Toy Story?\n",
    "\n",
    "Collaborative filtering and matrix decomposition allows us to use the history of others ratings, along with the entire community of ratings, to answer that question.\n",
    "\n",
    "![image1](img/collab.png)\n"
   ]
  },
  {
   "cell_type": "markdown",
   "metadata": {
    "colab_type": "text",
    "id": "NXsCauSUurkp"
   },
   "source": [
    "## Person vs vegetable\n",
    "\n",
    "It's important to realize that there are two sides to recommendation\n",
    "\n",
    "![image2](img/item_user_based.png)"
   ]
  },
  {
   "cell_type": "markdown",
   "metadata": {
    "colab_type": "text",
    "id": "kF-i_rK4urkp"
   },
   "source": [
    "## Code for model\n",
    "\n",
    "If we wanted, we could jump to the code right now to make this happen."
   ]
  },
  {
   "cell_type": "markdown",
   "metadata": {
    "colab_type": "text",
    "id": "lNvpEZbburkq"
   },
   "source": [
    "But would we understand it?\n",
    "```python\n",
    "from pyspark.ml.recommendation import ALS\n",
    "\n",
    "als = ALS(\n",
    "    userCol='userId',\n",
    "    itemCol='movieId',\n",
    "    ratingCol='rating',\n",
    ")\n",
    "\n",
    "als_model = als.fit(movie_ratings)\n",
    "```"
   ]
  },
  {
   "cell_type": "markdown",
   "metadata": {
    "colab_type": "text",
    "id": "1Rgm1rC_urkq"
   },
   "source": [
    "## Documentation Station\n",
    "\n",
    "Let's explore the [documentation](http://spark.apache.org/docs/2.4.3/api/python/pyspark.ml.html#module-pyspark.ml.recommendation) together to maybe get a better idea of what is happening. \n",
    "\n",
    "- which parameters make sense?\n",
    "- which are completely foreign?"
   ]
  },
  {
   "cell_type": "markdown",
   "metadata": {
    "colab_type": "text",
    "id": "XSkeeW4yurkr"
   },
   "source": [
    "## Assumptions\n",
    "\n",
    "Matrix decomposition is built on the theory that every individual (user, movie) score is actually the **dot product** of two separate vectors:\n",
    "- user characteristics \n",
    "- movie characteristics"
   ]
  },
  {
   "cell_type": "markdown",
   "metadata": {
    "colab_type": "text",
    "id": "N69jgwG2urks"
   },
   "source": [
    "Wait, do you mean like gender, whether the movie is sci-fi or action? do we have that data?"
   ]
  },
  {
   "cell_type": "markdown",
   "metadata": {
    "colab_type": "text",
    "id": "IhoGfIgvurks"
   },
   "source": [
    "![beyonce-gif](img/beyonce.gif)"
   ]
  },
  {
   "cell_type": "markdown",
   "metadata": {
    "colab_type": "text",
    "id": "AQQ_Oblourkt"
   },
   "source": [
    "## The hidden matricies \n",
    "![image4](img/matrix_decomp.png)"
   ]
  },
  {
   "cell_type": "markdown",
   "metadata": {
    "colab_type": "text",
    "id": "ZGgXx48Aurkt"
   },
   "source": [
    "## Embeddings\n",
    "\n",
    "Embeddings are low dimensional hidden factors for items and users.\n",
    "\n",
    "For e.g. say we have 5 dimensional (i.e., **rank** = 5) embeddings for both items and users (5 chosen randomly, this could be any number - as we saw with PCA and dim. reduction).\n",
    "\n",
    "For user-X & movie-A, we can say those 5 numbers might represent 5 different characteristics about the movie e.g.:\n",
    "\n",
    "- How much movie-A is political\n",
    "- How recent is the movie\n",
    "- How much special effects are in movie A\n",
    "- How dialogue driven is the movie\n",
    "- How linear is the narrative in the movie\n",
    "\n",
    "In a similar way, 5 numbers in the user embedding matrix might represent:\n",
    "\n",
    "- How much does user-X like sci-fi movies\n",
    "- How much does user-X like recent movies … and so on.\n",
    "\n",
    "But we have *no actual idea* what those factors actually represent."
   ]
  },
  {
   "cell_type": "markdown",
   "metadata": {
    "colab_type": "text",
    "id": "mpedppX9urkt"
   },
   "source": [
    "### If we knew the feature embeddings in advance, it would look something like this:"
   ]
  },
  {
   "cell_type": "code",
   "execution_count": 1,
   "metadata": {
    "colab": {},
    "colab_type": "code",
    "id": "2FnpDao6urku"
   },
   "outputs": [],
   "source": [
    "import numpy as np\n",
    "\n",
    "# the original matrix of rankings\n",
    "R = np.array([[2, np.nan, np.nan, 1, 4],\n",
    "              [5, 1, 2, np.nan, 2],\n",
    "              [3, np.nan, np.nan, 3, np.nan],\n",
    "              [1, np.nan, 4, 2, 1]])\n",
    "\n",
    "# users X factors\n",
    "P = np.array([[-0.63274434,  1.33686735, -1.55128517],\n",
    "              [-2.23813661,  0.5123861,  0.14087293],\n",
    "              [-1.0289794,  1.62052691,  0.21027516],\n",
    "              [-0.06422255,  1.62892864,  0.33350709]])\n",
    "\n",
    "# factors X items\n",
    "Q = np.array([[-2.09507374,  0.52351075,  0.01826269],\n",
    "              [-0.45078775, -0.07334991,  0.18731052],\n",
    "              [-0.34161766,  2.46215058, -0.18942263],\n",
    "              [-1.0925736,  1.04664756,  0.69963111],\n",
    "              [-0.78152923,  0.89189076, -1.47144019]])"
   ]
  },
  {
   "cell_type": "markdown",
   "metadata": {
    "colab_type": "text",
    "id": "XT47eqfCurkw"
   },
   "source": [
    "What about that `np.nan` in the third row, last column? How will that item be reviewed by that user?"
   ]
  },
  {
   "cell_type": "code",
   "execution_count": 2,
   "metadata": {
    "colab": {
     "base_uri": "https://localhost:8080/",
     "height": 34
    },
    "colab_type": "code",
    "id": "JYngWDlwurkx",
    "outputId": "e88b24c5-4616-4d97-e2ca-e77e75ad69c5"
   },
   "outputs": [
    {
     "data": {
      "text/plain": [
       "1.9401031341455333"
      ]
     },
     "execution_count": 2,
     "metadata": {},
     "output_type": "execute_result"
    }
   ],
   "source": [
    "P[2].dot(Q.T[:,4])"
   ]
  },
  {
   "cell_type": "markdown",
   "metadata": {
    "colab_type": "text",
    "id": "9fZB3n7curkz"
   },
   "source": [
    "## Wait, I saw a transpose in there - what's the actual formula?\n",
    "\n",
    "Terms:<br>\n",
    "$R$ is the full user-item rating matrix\n",
    "\n",
    "$P$ is a matrix that contains the users and the k factors represented as (user,factor)\n",
    "\n",
    "$Q^T$ is a matrix that contains the items and the k factors represented as\n",
    "\n",
    "$r̂_{u,i}$ represents our prediction for the true rating $r_{ui}$ In order to get an individual rating, you must take the dot product of a row of P and a column of Q\n",
    "\n",
    "for the entire matrix:\n",
    "$$ R = PQ^T $$ \n",
    "\n",
    "or for individual ratings\n",
    "\n",
    "$$r̂_{u,i}=q_i^⊤p_u $$ \n",
    "\n",
    "\n",
    "\n"
   ]
  },
  {
   "cell_type": "markdown",
   "metadata": {
    "colab_type": "text",
    "id": "9QFXaP-Aurkz"
   },
   "source": [
    "### Let's get the whole matrix!"
   ]
  },
  {
   "cell_type": "code",
   "execution_count": 3,
   "metadata": {
    "colab": {},
    "colab_type": "code",
    "id": "ly29_Afuurkz"
   },
   "outputs": [
    {
     "data": {
      "text/plain": [
       "array([[ 1.99717984, -0.10339773,  3.80157388,  1.00522135,  3.96947118],\n",
       "       [ 4.95987359,  0.99772807,  1.9994742 ,  3.08017572,  1.99887552],\n",
       "       [ 3.00799117,  0.38437256,  4.30166793,  2.96747131,  1.94010313],\n",
       "       [ 0.99340337, -0.02806164,  3.96943336,  2.00841398,  1.01228247]])"
      ]
     },
     "execution_count": 3,
     "metadata": {},
     "output_type": "execute_result"
    }
   ],
   "source": [
    "P.dot(Q.T)"
   ]
  },
  {
   "cell_type": "markdown",
   "metadata": {
    "colab_type": "text",
    "id": "n6zPsSNuurk1"
   },
   "source": [
    "### Look at those results\n",
    "\n",
    "Are they _exactly_ correct?\n",
    "![check](img/check.gif)"
   ]
  },
  {
   "cell_type": "markdown",
   "metadata": {
    "colab_type": "text",
    "id": "xqwBoCC6urk2"
   },
   "source": [
    "## ALS benefit: Loss Function\n",
    "\n",
    "The Loss function $L$ can be calculated as:\n",
    "\n",
    "$$ L = \\sum_{u,i ∈ \\kappa}(r_{u,i}− q_i^T p_u)^2 + λ( ||q_i||^2 + |p_u||^2)$$\n",
    "\n",
    "Where $\\kappa$ is the set of (u,i) pairs for which $r_{u,i}$ is known.\n",
    "\n",
    "To avoid overfitting, the loss function also includes a regularization parameter $\\lambda$. We will choose a $\\lambda$ to minimize the square of the difference between all ratings in our dataset $R$ and our predictions.\n",
    "\n",
    "There's the **least squares** part of ALS, got it!"
   ]
  },
  {
   "cell_type": "markdown",
   "metadata": {
    "colab_type": "text",
    "id": "roK9YBGOurk2"
   },
   "source": [
    "## So now we use gradient descent, right?"
   ]
  },
  {
   "cell_type": "markdown",
   "metadata": {
    "colab_type": "text",
    "id": "wVInIntcurk3"
   },
   "source": [
    "![incorrect](img/incorrect.gif)"
   ]
  },
  {
   "cell_type": "markdown",
   "metadata": {
    "colab_type": "text",
    "id": "6djUpw42urk3"
   },
   "source": [
    "### Here comes the alternating part\n",
    "\n",
    "ALS alternates between holding the $q_i$'s constant and the $p_u$'s constant. \n",
    "\n",
    "While all $q_i$'s are held constant, each $p_u$ is computed by solving the least squared problem.<br>\n",
    "After that process has taken place, all the $p_u$'s are held constant while the $q_i$'s are altered to solve the least squares problem, again, each independently.<br> \n",
    "This process repeats many times until you've reached convergence (ideally)."
   ]
  },
  {
   "cell_type": "markdown",
   "metadata": {
    "colab_type": "text",
    "id": "GbcP62fLurk3"
   },
   "source": [
    "### Changing Loss function:\n",
    "\n",
    "First let's assume first the item vectors are fixed, we first solve for the user vectors:\n",
    "\n",
    "$$p_u=(\\sum{r{u,i}\\in r_{u*}}{q_iq_i^T + \\lambda I_k})^{-1}\\sum_{r_{u,i}\\in r_{u*}}{r_{ui}{q_{i}}}$$\n",
    "\n",
    "Then we hold the user vectors constant and solve for the item vectors\n",
    "\n",
    "$$q_i=(\\sum{r{u,i}\\in r_{i*}}{p_up_u^T + \\lambda I_k})^{-1}\\sum_{r_{u,i}\\in r_{u*}}{r_{ui}{p_{u}}}$$\n",
    "\n",
    "This process repeats until convergence"
   ]
  },
  {
   "cell_type": "markdown",
   "metadata": {
    "colab_type": "text",
    "id": "-wPBb4mTurk4"
   },
   "source": [
    "# Turn and Talk\n",
    "What levers do we have available to adjust?\n",
    "\n",
    "![lever-choice](img/levers.jpeg)\n",
    "\n",
    "- Pros and cons of lambda size?\n",
    "- Iterations?"
   ]
  },
  {
   "cell_type": "markdown",
   "metadata": {
    "colab_type": "text",
    "id": "boXbN694urk4"
   },
   "source": [
    "# Enough - let's get to the data"
   ]
  },
  {
   "cell_type": "markdown",
   "metadata": {
    "colab_type": "text",
    "id": "XbvLeuG2urk5"
   },
   "source": [
    "### Importing the Data\n",
    "To begin with:\n",
    "* initialize a SparkSession object\n",
    "* import the dataset found at './data/ratings.csv' into a pyspark DataFrame"
   ]
  },
  {
   "cell_type": "code",
   "execution_count": 4,
   "metadata": {
    "colab": {},
    "colab_type": "code",
    "id": "uOMiDuBhurk5"
   },
   "outputs": [],
   "source": [
    "import pyspark\n",
    "\n",
    "spark = pyspark.sql.SparkSession.builder.getOrCreate()\n",
    "sc = spark.sparkContext"
   ]
  },
  {
   "cell_type": "code",
   "execution_count": 5,
   "metadata": {
    "colab": {
     "base_uri": "https://localhost:8080/",
     "height": 85
    },
    "colab_type": "code",
    "id": "Z5jzktJswTdK",
    "outputId": "2280320f-93e9-4b2c-91e0-8d08b2adee41"
   },
   "outputs": [
    {
     "name": "stdout",
     "output_type": "stream",
     "text": [
      "Archive:  data.zip\n",
      "   creating: data/\n",
      "  inflating: data/ratings.csv        \n",
      "  inflating: data/movies.csv         \n"
     ]
    }
   ],
   "source": [
    "!unzip data.zip"
   ]
  },
  {
   "cell_type": "code",
   "execution_count": 6,
   "metadata": {
    "colab": {
     "base_uri": "https://localhost:8080/",
     "height": 34
    },
    "colab_type": "code",
    "id": "MuwDgy2rurk7",
    "outputId": "79b63296-b87b-40dd-d5f3-6689fccecfbb"
   },
   "outputs": [
    {
     "name": "stdout",
     "output_type": "stream",
     "text": [
      "movies.csv  ratings.csv\n"
     ]
    }
   ],
   "source": [
    "!ls data/"
   ]
  },
  {
   "cell_type": "code",
   "execution_count": 7,
   "metadata": {
    "colab": {
     "base_uri": "https://localhost:8080/",
     "height": 187
    },
    "colab_type": "code",
    "id": "xisAKasGurk-",
    "outputId": "c6c8de94-f7c2-4620-b87b-f636a47247ea"
   },
   "outputs": [
    {
     "name": "stdout",
     "output_type": "stream",
     "text": [
      "\n",
      "\n",
      "\n",
      "\n",
      "\n",
      "\n",
      "\n",
      "\n",
      "\n",
      "\n"
     ]
    }
   ],
   "source": [
    "!head data/ratings.csv"
   ]
  },
  {
   "cell_type": "code",
   "execution_count": 8,
   "metadata": {
    "colab": {},
    "colab_type": "code",
    "id": "w9rGcB6eurlB"
   },
   "outputs": [],
   "source": [
    "# read in the dataset into pyspark DataFrame\n",
    "movie_ratings = spark.read.csv('data/ratings.csv',\n",
    "                               inferSchema=True,\n",
    "                               header=True)"
   ]
  },
  {
   "cell_type": "markdown",
   "metadata": {
    "colab_type": "text",
    "id": "joeAGI1DurlD"
   },
   "source": [
    "Check the data types of each of the values to ensure that they are a type that makes sense given the column."
   ]
  },
  {
   "cell_type": "code",
   "execution_count": 9,
   "metadata": {
    "colab": {
     "base_uri": "https://localhost:8080/",
     "height": 119
    },
    "colab_type": "code",
    "id": "UayzI9DwurlD",
    "outputId": "a9886dcb-e271-471d-8289-e0713bf7d4c7"
   },
   "outputs": [
    {
     "name": "stdout",
     "output_type": "stream",
     "text": [
      "root\n",
      " |-- userId: integer (nullable = true)\n",
      " |-- movieId: integer (nullable = true)\n",
      " |-- rating: double (nullable = true)\n",
      " |-- timestamp: integer (nullable = true)\n",
      "\n"
     ]
    }
   ],
   "source": [
    "movie_ratings.printSchema()"
   ]
  },
  {
   "cell_type": "code",
   "execution_count": 10,
   "metadata": {
    "colab": {
     "base_uri": "https://localhost:8080/",
     "height": 102
    },
    "colab_type": "code",
    "id": "qLagyKKI_SyP",
    "outputId": "d9662fc8-8928-4865-a6e9-5c0f0a98b4b2"
   },
   "outputs": [
    {
     "data": {
      "text/plain": [
       "[Row(userId=1, movieId=1, rating=4.0, timestamp=964982703),\n",
       " Row(userId=1, movieId=3, rating=4.0, timestamp=964981247),\n",
       " Row(userId=1, movieId=6, rating=4.0, timestamp=964982224),\n",
       " Row(userId=1, movieId=47, rating=5.0, timestamp=964983815),\n",
       " Row(userId=1, movieId=50, rating=5.0, timestamp=964982931)]"
      ]
     },
     "execution_count": 10,
     "metadata": {},
     "output_type": "execute_result"
    }
   ],
   "source": [
    "movie_ratings.head(5)"
   ]
  },
  {
   "cell_type": "code",
   "execution_count": 11,
   "metadata": {
    "colab": {
     "base_uri": "https://localhost:8080/",
     "height": 204
    },
    "colab_type": "code",
    "id": "LO1zDU46urlQ",
    "outputId": "0f0f4118-8fa2-4843-ae2a-be10859bcd3d"
   },
   "outputs": [
    {
     "name": "stdout",
     "output_type": "stream",
     "text": [
      "+------+-------+------+---------+\n",
      "|userId|movieId|rating|timestamp|\n",
      "+------+-------+------+---------+\n",
      "|     1|      1|   4.0|964982703|\n",
      "|     1|      3|   4.0|964981247|\n",
      "|     1|      6|   4.0|964982224|\n",
      "|     1|     47|   5.0|964983815|\n",
      "|     1|     50|   5.0|964982931|\n",
      "+------+-------+------+---------+\n",
      "only showing top 5 rows\n",
      "\n"
     ]
    }
   ],
   "source": [
    "movie_ratings.show(5)"
   ]
  },
  {
   "cell_type": "markdown",
   "metadata": {
    "colab_type": "text",
    "id": "XEWZD531urlS"
   },
   "source": [
    "We aren't going to need the time stamp, so we can go ahead and remove that column."
   ]
  },
  {
   "cell_type": "code",
   "execution_count": 12,
   "metadata": {
    "colab": {},
    "colab_type": "code",
    "id": "9tBuEVl4urlS"
   },
   "outputs": [],
   "source": [
    "movie_ratings = movie_ratings.drop('timestamp')"
   ]
  },
  {
   "cell_type": "code",
   "execution_count": 13,
   "metadata": {
    "colab": {
     "base_uri": "https://localhost:8080/",
     "height": 204
    },
    "colab_type": "code",
    "id": "OEkYObTy_kC5",
    "outputId": "d5c8e2f3-b362-46cc-ab8b-2eff12b02e1f"
   },
   "outputs": [
    {
     "name": "stdout",
     "output_type": "stream",
     "text": [
      "+------+-------+------+\n",
      "|userId|movieId|rating|\n",
      "+------+-------+------+\n",
      "|     1|      1|   4.0|\n",
      "|     1|      3|   4.0|\n",
      "|     1|      6|   4.0|\n",
      "|     1|     47|   5.0|\n",
      "|     1|     50|   5.0|\n",
      "+------+-------+------+\n",
      "only showing top 5 rows\n",
      "\n"
     ]
    }
   ],
   "source": [
    "movie_ratings.show(5)"
   ]
  },
  {
   "cell_type": "markdown",
   "metadata": {
    "colab_type": "text",
    "id": "I10eye8iurlU"
   },
   "source": [
    "### Fitting the Alternating Least Squares Model"
   ]
  },
  {
   "cell_type": "markdown",
   "metadata": {
    "colab_type": "text",
    "id": "HenOR9uWurlU"
   },
   "source": [
    "Because this dataset is already preprocessed for us, we can go ahead and fit the Alternating Least Squares model.\n",
    "\n",
    "* Use the randomSplit method on the pyspark DataFrame to separate the dataset into a training and test set\n",
    "* Import the ALS module from pyspark.ml.recommendation.\n",
    "* Fit the Alternating Least Squares Model to the training dataset. Make sure to set the userCol, itemCol, and ratingCol to the appropriate names given this dataset. Then fit the data to the training set and assign it to a variable model. "
   ]
  },
  {
   "cell_type": "code",
   "execution_count": 14,
   "metadata": {
    "colab": {},
    "colab_type": "code",
    "id": "hNApPokqurlU"
   },
   "outputs": [],
   "source": [
    "# split into training and testing sets\n",
    "\n",
    "mr_train, mr_test = movie_ratings.randomSplit([0.8, 0.2])"
   ]
  },
  {
   "cell_type": "code",
   "execution_count": 15,
   "metadata": {
    "colab": {},
    "colab_type": "code",
    "id": "lze-bPufurlW"
   },
   "outputs": [],
   "source": [
    "from pyspark.ml.evaluation import RegressionEvaluator\n",
    "from pyspark.ml.recommendation import ALS, ALSModel\n",
    "\n",
    "als = ALS(\n",
    "    userCol='userId',\n",
    "    itemCol='movieId',\n",
    "    ratingCol='rating',\n",
    ")"
   ]
  },
  {
   "cell_type": "code",
   "execution_count": 16,
   "metadata": {
    "colab": {},
    "colab_type": "code",
    "id": "0K57A1tiurlX"
   },
   "outputs": [],
   "source": [
    "# Build the recommendation model using ALS on the training data\n",
    "# fit the ALS model to the training set\n",
    "\n",
    "als_model = als.fit(mr_train)"
   ]
  },
  {
   "cell_type": "markdown",
   "metadata": {
    "colab_type": "text",
    "id": "DmRRz_dUurlZ"
   },
   "source": [
    "Now you've fit the model, and it's time to evaluate it to determine just how well it performed.\n",
    "\n",
    "* import `RegressionEvalutor` from pyspark.ml.evaluation ([documentation](http://spark.apache.org/docs/2.4.3/api/python/pyspark.ml.html#pyspark.ml.evaluation.RegressionEvaluator)\n",
    "* generate predictions with your model for the test set by using the `transform` method on your ALS model\n",
    "* evaluate your model and print out the RMSE from your test set [options for evaluating regressors](http://spark.apache.org/docs/2.4.3/api/python/pyspark.ml.html#pyspark.ml.evaluation.RegressionEvaluator.metricName)"
   ]
  },
  {
   "cell_type": "code",
   "execution_count": 17,
   "metadata": {
    "colab": {},
    "colab_type": "code",
    "id": "GUzDiiFburlb"
   },
   "outputs": [],
   "source": [
    "train_predictions = als_model.transform(mr_train)"
   ]
  },
  {
   "cell_type": "code",
   "execution_count": 18,
   "metadata": {
    "colab": {
     "base_uri": "https://localhost:8080/",
     "height": 204
    },
    "colab_type": "code",
    "id": "vLgveYU4zwW8",
    "outputId": "7c035adb-5cae-427a-cb57-1cd98dd5da61"
   },
   "outputs": [
    {
     "name": "stdout",
     "output_type": "stream",
     "text": [
      "+------+-------+------+----------+\n",
      "|userId|movieId|rating|prediction|\n",
      "+------+-------+------+----------+\n",
      "|   191|    148|   5.0| 4.9157906|\n",
      "|   133|    471|   4.0| 3.2069576|\n",
      "|   597|    471|   2.0|  3.830933|\n",
      "|   385|    471|   4.0| 3.0270627|\n",
      "|   436|    471|   3.0| 3.7656024|\n",
      "+------+-------+------+----------+\n",
      "only showing top 5 rows\n",
      "\n"
     ]
    }
   ],
   "source": [
    "train_predictions.show(5)"
   ]
  },
  {
   "cell_type": "code",
   "execution_count": 19,
   "metadata": {
    "colab": {
     "base_uri": "https://localhost:8080/",
     "height": 34
    },
    "colab_type": "code",
    "id": "S3UZNk4PAlPO",
    "outputId": "0b3a810b-c920-44a7-f71a-19bbc46d0b9b"
   },
   "outputs": [
    {
     "name": "stdout",
     "output_type": "stream",
     "text": [
      "Root-mean-square error (train)= 0.5637573121228293\n"
     ]
    }
   ],
   "source": [
    "evaluator = RegressionEvaluator(metricName=\"rmse\", \n",
    "                                labelCol=\"rating\",\n",
    "                                predictionCol=\"prediction\")\n",
    "\n",
    "#notice how we dropna, why are we doing this?\n",
    "rmse = evaluator.evaluate(train_predictions.dropna())\n",
    "\n",
    "print(f\"Root-mean-square error (train)= {rmse}\")\n",
    "\n"
   ]
  },
  {
   "cell_type": "code",
   "execution_count": 20,
   "metadata": {
    "colab": {
     "base_uri": "https://localhost:8080/",
     "height": 34
    },
    "colab_type": "code",
    "id": "pjmWTGR6zI3O",
    "outputId": "6d46ed11-b056-4edb-fa38-317605ba7a5c"
   },
   "outputs": [
    {
     "name": "stdout",
     "output_type": "stream",
     "text": [
      "Root-mean-square error = 0.885214503040523\n"
     ]
    }
   ],
   "source": [
    "#let's check with our test data\n",
    "predictions = als_model.transform(mr_test)\n",
    "evaluator = RegressionEvaluator(metricName=\"rmse\",\n",
    "                                labelCol=\"rating\",\n",
    "                                predictionCol=\"prediction\")\n",
    "\n",
    "rmse = evaluator.evaluate(predictions.dropna())\n",
    "\n",
    "print(f\"Root-mean-square error = {rmse}\")\n",
    "\n"
   ]
  },
  {
   "cell_type": "code",
   "execution_count": 21,
   "metadata": {
    "colab": {
     "base_uri": "https://localhost:8080/",
     "height": 34
    },
    "colab_type": "code",
    "id": "aJL_OHxuurle",
    "outputId": "7bae99e8-71d8-4e41-8a67-25fae8d67676"
   },
   "outputs": [
    {
     "data": {
      "text/plain": [
       "DataFrame[userId: int, movieId: int, rating: double, prediction: float]"
      ]
     },
     "execution_count": 21,
     "metadata": {},
     "output_type": "execute_result"
    }
   ],
   "source": [
    "predictions.persist()"
   ]
  },
  {
   "cell_type": "code",
   "execution_count": 22,
   "metadata": {
    "colab": {
     "base_uri": "https://localhost:8080/",
     "height": 221
    },
    "colab_type": "code",
    "id": "nlEyFi9Turlf",
    "outputId": "3540305a-4cd7-41f5-a92e-47c3c0501b09"
   },
   "outputs": [
    {
     "name": "stdout",
     "output_type": "stream",
     "text": [
      "+------+-------+------+\n",
      "|userId|movieId|rating|\n",
      "+------+-------+------+\n",
      "|     1|      1|   4.0|\n",
      "|     1|      3|   4.0|\n",
      "|     1|      6|   4.0|\n",
      "|     1|     47|   5.0|\n",
      "|     1|     50|   5.0|\n",
      "|     1|     70|   3.0|\n",
      "+------+-------+------+\n",
      "only showing top 6 rows\n",
      "\n"
     ]
    }
   ],
   "source": [
    "movie_ratings.show(6)"
   ]
  },
  {
   "cell_type": "code",
   "execution_count": 23,
   "metadata": {
    "colab": {
     "base_uri": "https://localhost:8080/",
     "height": 221
    },
    "colab_type": "code",
    "id": "_t8J_tmUurlh",
    "outputId": "abc83448-e13d-4dba-e79b-82d499805f9f"
   },
   "outputs": [
    {
     "name": "stdout",
     "output_type": "stream",
     "text": [
      "+------+-------+------+----------+\n",
      "|userId|movieId|rating|prediction|\n",
      "+------+-------+------+----------+\n",
      "|   602|    471|   4.0|  3.112138|\n",
      "|   409|    471|   3.0| 3.8394618|\n",
      "|   610|    471|   4.0| 3.1897154|\n",
      "|   448|    471|   4.0|  3.429043|\n",
      "|   216|    471|   3.0| 3.2501829|\n",
      "|   287|    471|   4.5| 2.7882257|\n",
      "+------+-------+------+----------+\n",
      "only showing top 6 rows\n",
      "\n"
     ]
    }
   ],
   "source": [
    "predictions.show(6)"
   ]
  },
  {
   "cell_type": "code",
   "execution_count": 24,
   "metadata": {
    "colab": {},
    "colab_type": "code",
    "id": "9Qiwi7Upurli"
   },
   "outputs": [],
   "source": [
    "user_factors = als_model.userFactors"
   ]
  },
  {
   "cell_type": "code",
   "execution_count": 25,
   "metadata": {
    "colab": {
     "base_uri": "https://localhost:8080/",
     "height": 289
    },
    "colab_type": "code",
    "id": "vV_1850wurll",
    "outputId": "8a567f56-e328-4b28-8d52-f99c7e7e5455"
   },
   "outputs": [
    {
     "name": "stdout",
     "output_type": "stream",
     "text": [
      "+---+--------------------+\n",
      "| id|            features|\n",
      "+---+--------------------+\n",
      "| 10|[-1.1203301, -1.0...|\n",
      "| 20|[-0.020354815, -0...|\n",
      "| 30|[-0.70407623, -0....|\n",
      "| 40|[-0.16421832, -0....|\n",
      "| 50|[-0.17447253, 0.3...|\n",
      "| 60|[-0.38603196, -0....|\n",
      "| 70|[-0.18689997, -0....|\n",
      "| 80|[-0.5450059, -0.2...|\n",
      "| 90|[0.3272208, -0.04...|\n",
      "|100|[-0.5109115, -0.7...|\n",
      "+---+--------------------+\n",
      "only showing top 10 rows\n",
      "\n"
     ]
    }
   ],
   "source": [
    "user_factors.show(10)"
   ]
  },
  {
   "cell_type": "code",
   "execution_count": 26,
   "metadata": {
    "colab": {},
    "colab_type": "code",
    "id": "JRoGCsWPurlm"
   },
   "outputs": [],
   "source": [
    "item_factors = als_model.itemFactors"
   ]
  },
  {
   "cell_type": "code",
   "execution_count": 27,
   "metadata": {
    "colab": {
     "base_uri": "https://localhost:8080/",
     "height": 289
    },
    "colab_type": "code",
    "id": "5WvHcvYMurlo",
    "outputId": "4faa226a-4489-43e2-a5aa-50e2f74d3ecf"
   },
   "outputs": [
    {
     "name": "stdout",
     "output_type": "stream",
     "text": [
      "+---+--------------------+\n",
      "| id|            features|\n",
      "+---+--------------------+\n",
      "| 10|[-0.2615902, -0.3...|\n",
      "| 20|[-0.42568925, 0.0...|\n",
      "| 30|[0.24362114, 1.37...|\n",
      "| 40|[-1.2288331, 0.26...|\n",
      "| 50|[-0.23277198, 0.3...|\n",
      "| 60|[-0.16328321, -0....|\n",
      "| 70|[-0.11268958, -0....|\n",
      "| 80|[-0.24506415, 0.4...|\n",
      "|100|[0.1341564, -0.26...|\n",
      "|110|[-0.550132, -0.17...|\n",
      "+---+--------------------+\n",
      "only showing top 10 rows\n",
      "\n"
     ]
    }
   ],
   "source": [
    "item_factors.show(10)"
   ]
  },
  {
   "cell_type": "markdown",
   "metadata": {
    "colab_type": "text",
    "id": "Jw3WcdDAurlp"
   },
   "source": [
    "### Important Question\n",
    "\n",
    "Will Billy like movie m?"
   ]
  },
  {
   "cell_type": "code",
   "execution_count": 28,
   "metadata": {
    "colab": {},
    "colab_type": "code",
    "id": "fFOMPJ6Zurlq"
   },
   "outputs": [],
   "source": [
    "import numpy as np"
   ]
  },
  {
   "cell_type": "code",
   "execution_count": 29,
   "metadata": {
    "colab": {},
    "colab_type": "code",
    "id": "DS-gV_7Purlr"
   },
   "outputs": [],
   "source": [
    "billy_row = user_factors[user_factors['id'] == 10].first()\n",
    "billy_factors = np.array(billy_row['features'])"
   ]
  },
  {
   "cell_type": "code",
   "execution_count": 30,
   "metadata": {
    "colab": {},
    "colab_type": "code",
    "id": "8ShtNeHNurlt"
   },
   "outputs": [],
   "source": [
    "m_row = item_factors[item_factors['id'] == 300].first()\n",
    "m_factors = np.array(m_row['features'])"
   ]
  },
  {
   "cell_type": "code",
   "execution_count": 31,
   "metadata": {
    "colab": {
     "base_uri": "https://localhost:8080/",
     "height": 51
    },
    "colab_type": "code",
    "id": "euyaI8d1urlu",
    "outputId": "dad94599-1feb-41a9-9c1d-6679187b4e8c",
    "scrolled": true
   },
   "outputs": [
    {
     "data": {
      "text/plain": [
       "array([-1.1203301 , -1.07146513, -0.31242731,  0.50631529,  0.71689254,\n",
       "        0.45523372, -0.23791394, -1.0488621 , -0.46222615,  0.06714125])"
      ]
     },
     "execution_count": 31,
     "metadata": {},
     "output_type": "execute_result"
    }
   ],
   "source": [
    "billy_factors"
   ]
  },
  {
   "cell_type": "code",
   "execution_count": 32,
   "metadata": {
    "colab": {
     "base_uri": "https://localhost:8080/",
     "height": 51
    },
    "colab_type": "code",
    "id": "pB9WU6E4urlw",
    "outputId": "fe234a04-91e5-4d5c-9cbd-663ee13aa057"
   },
   "outputs": [
    {
     "data": {
      "text/plain": [
       "array([ 0.03458975, -0.15960222,  0.17158447,  0.79453808,  0.10294127,\n",
       "       -0.31332606,  0.0296643 , -0.84704024, -1.78182173, -0.48461902])"
      ]
     },
     "execution_count": 32,
     "metadata": {},
     "output_type": "execute_result"
    }
   ],
   "source": [
    "m_factors"
   ]
  },
  {
   "cell_type": "code",
   "execution_count": 33,
   "metadata": {
    "colab": {
     "base_uri": "https://localhost:8080/",
     "height": 34
    },
    "colab_type": "code",
    "id": "M2RT1SUuurlx",
    "outputId": "4a5bf5fb-fe23-40d6-f544-2778b1ef87b8"
   },
   "outputs": [
    {
     "data": {
      "text/plain": [
       "2.0845341451602653"
      ]
     },
     "execution_count": 33,
     "metadata": {},
     "output_type": "execute_result"
    }
   ],
   "source": [
    "billy_factors @ m_factors"
   ]
  },
  {
   "cell_type": "code",
   "execution_count": 34,
   "metadata": {
    "colab": {
     "base_uri": "https://localhost:8080/",
     "height": 34
    },
    "colab_type": "code",
    "id": "XJax1TD5Bp2O",
    "outputId": "4773e0e2-3e10-410e-b063-a527356314d2"
   },
   "outputs": [
    {
     "data": {
      "text/plain": [
       "2.0845341451602653"
      ]
     },
     "execution_count": 34,
     "metadata": {},
     "output_type": "execute_result"
    }
   ],
   "source": [
    "billy_factors.dot(m_factors)"
   ]
  },
  {
   "cell_type": "code",
   "execution_count": 35,
   "metadata": {
    "colab": {},
    "colab_type": "code",
    "id": "baFGUispurl0"
   },
   "outputs": [],
   "source": [
    "billy_preds = train_predictions[train_predictions['userId'] == 10]"
   ]
  },
  {
   "cell_type": "code",
   "execution_count": 36,
   "metadata": {
    "colab": {
     "base_uri": "https://localhost:8080/",
     "height": 459
    },
    "colab_type": "code",
    "id": "vchzwA5furl3",
    "outputId": "38ddc50d-7f26-4740-ffba-ecd3f2849ec8"
   },
   "outputs": [
    {
     "name": "stdout",
     "output_type": "stream",
     "text": [
      "+------+-------+------+----------+\n",
      "|userId|movieId|rating|prediction|\n",
      "+------+-------+------+----------+\n",
      "|    10|    296|   1.0| 1.9804393|\n",
      "|    10|    588|   4.0|  2.940047|\n",
      "|    10|    912|   4.0| 2.9359443|\n",
      "|    10|   1028|   0.5|  2.090569|\n",
      "|    10|   1088|   3.0| 2.9005334|\n",
      "|    10|   1247|   3.0| 2.2021194|\n",
      "|    10|   1307|   3.0| 3.0473313|\n",
      "|    10|   1784|   3.5| 2.7882361|\n",
      "|    10|   1907|   4.0| 3.2249389|\n",
      "|    10|   2571|   0.5| 2.8633056|\n",
      "|    10|   2671|   3.5| 3.4982302|\n",
      "|    10|   2762|   0.5| 2.7024276|\n",
      "|    10|   2858|   1.0| 1.9088267|\n",
      "|    10|   2959|   0.5| 2.4237351|\n",
      "|    10|   3578|   4.0| 3.5481024|\n",
      "|    10|   3882|   3.0|  3.127587|\n",
      "|    10|   4246|   3.5| 2.8391597|\n",
      "|    10|   4306|   4.5|  3.182148|\n",
      "|    10|   4447|   4.5|  3.602854|\n",
      "|    10|   4993|   4.0| 3.2524076|\n",
      "+------+-------+------+----------+\n",
      "only showing top 20 rows\n",
      "\n"
     ]
    }
   ],
   "source": [
    "billy_preds.sort('movieId').show()"
   ]
  },
  {
   "cell_type": "code",
   "execution_count": 37,
   "metadata": {
    "colab": {
     "base_uri": "https://localhost:8080/",
     "height": 34
    },
    "colab_type": "code",
    "id": "PrPN6iB9url5",
    "outputId": "782b155b-69d0-4c07-de2b-5e954989b12f",
    "scrolled": true
   },
   "outputs": [
    {
     "name": "stdout",
     "output_type": "stream",
     "text": [
      "\n"
     ]
    }
   ],
   "source": [
    "!grep \"^300,\" < data/movies.csv"
   ]
  },
  {
   "cell_type": "markdown",
   "metadata": {
    "colab_type": "text",
    "id": "Juh7coa0url7"
   },
   "source": [
    "## Okay, what *will* Billy like?"
   ]
  },
  {
   "cell_type": "code",
   "execution_count": 38,
   "metadata": {
    "colab": {},
    "colab_type": "code",
    "id": "piEKuZmcurl7"
   },
   "outputs": [],
   "source": [
    "recs = als_model.recommendForAllUsers(numItems=10)"
   ]
  },
  {
   "cell_type": "code",
   "execution_count": 39,
   "metadata": {
    "colab": {
     "base_uri": "https://localhost:8080/",
     "height": 187
    },
    "colab_type": "code",
    "id": "Lnq3-J25url9",
    "outputId": "4c10d996-f878-450c-b80f-ae9e9e13a864"
   },
   "outputs": [
    {
     "data": {
      "text/plain": [
       "[Row(movieId=6686, rating=5.04002046585083),\n",
       " Row(movieId=32892, rating=4.991785526275635),\n",
       " Row(movieId=222, rating=4.922060012817383),\n",
       " Row(movieId=74946, rating=4.896431922912598),\n",
       " Row(movieId=90888, rating=4.8028883934021),\n",
       " Row(movieId=8869, rating=4.7076616287231445),\n",
       " Row(movieId=103372, rating=4.619114875793457),\n",
       " Row(movieId=78637, rating=4.581262588500977),\n",
       " Row(movieId=71579, rating=4.5738911628723145),\n",
       " Row(movieId=32598, rating=4.5477213859558105)]"
      ]
     },
     "execution_count": 39,
     "metadata": {},
     "output_type": "execute_result"
    }
   ],
   "source": [
    "recs[recs['userId']==10].first()['recommendations']"
   ]
  },
  {
   "cell_type": "code",
   "execution_count": 40,
   "metadata": {
    "colab": {
     "base_uri": "https://localhost:8080/",
     "height": 34
    },
    "colab_type": "code",
    "id": "RS_d_FA5url_",
    "outputId": "4cb9a176-6495-413b-f449-8d9d8ff2449c"
   },
   "outputs": [
    {
     "name": "stdout",
     "output_type": "stream",
     "text": [
      "\n"
     ]
    }
   ],
   "source": [
    "!grep \"^71579,\" < data/movies.csv"
   ]
  },
  {
   "cell_type": "markdown",
   "metadata": {},
   "source": [
    "## Your turn!!\n",
    "\n",
    "\n",
    "Marcy is user number 126.  Will She like the movie NeverEnding Story III (id =278)?\n",
    "\n",
    "What movies will Marcy like?"
   ]
  },
  {
   "cell_type": "code",
   "execution_count": 41,
   "metadata": {},
   "outputs": [],
   "source": [
    "#your code here"
   ]
  },
  {
   "cell_type": "code",
   "execution_count": 42,
   "metadata": {
    "colab": {},
    "colab_type": "code",
    "id": "DS-gV_7Purlr"
   },
   "outputs": [],
   "source": [
    "marcy_row = user_factors[user_factors['id'] == 126].first()\n",
    "marcy_factors = np.array(billy_row['features'])"
   ]
  },
  {
   "cell_type": "code",
   "execution_count": 43,
   "metadata": {},
   "outputs": [
    {
     "data": {
      "text/plain": [
       "Row(id=126, features=[0.4223337769508362, -0.9833168387413025, 0.3187357187271118, 1.3234115839004517, 0.2914188504219055, 0.3199594020843506, 0.33847591280937195, -0.2346716672182083, -1.1305001974105835, -0.18424473702907562])"
      ]
     },
     "execution_count": 43,
     "metadata": {},
     "output_type": "execute_result"
    }
   ],
   "source": [
    "marcy_row"
   ]
  },
  {
   "cell_type": "code",
   "execution_count": 44,
   "metadata": {
    "colab": {},
    "colab_type": "code",
    "id": "8ShtNeHNurlt"
   },
   "outputs": [],
   "source": [
    "m_row = item_factors[item_factors['id'] == 278].first()\n",
    "m_factors = np.array(m_row['features'])"
   ]
  },
  {
   "cell_type": "code",
   "execution_count": 45,
   "metadata": {
    "colab": {
     "base_uri": "https://localhost:8080/",
     "height": 51
    },
    "colab_type": "code",
    "id": "euyaI8d1urlu",
    "outputId": "dad94599-1feb-41a9-9c1d-6679187b4e8c",
    "scrolled": true
   },
   "outputs": [
    {
     "data": {
      "text/plain": [
       "array([-1.1203301 , -1.07146513, -0.31242731,  0.50631529,  0.71689254,\n",
       "        0.45523372, -0.23791394, -1.0488621 , -0.46222615,  0.06714125])"
      ]
     },
     "execution_count": 45,
     "metadata": {},
     "output_type": "execute_result"
    }
   ],
   "source": [
    "marcy_factors"
   ]
  },
  {
   "cell_type": "code",
   "execution_count": 46,
   "metadata": {
    "colab": {
     "base_uri": "https://localhost:8080/",
     "height": 51
    },
    "colab_type": "code",
    "id": "pB9WU6E4urlw",
    "outputId": "fe234a04-91e5-4d5c-9cbd-663ee13aa057"
   },
   "outputs": [
    {
     "data": {
      "text/plain": [
       "array([-0.1059352 ,  0.2480803 , -0.29835272,  0.50908625,  0.09189876,\n",
       "       -0.28101298,  0.04428867, -0.15351939, -0.57745975,  0.18948704])"
      ]
     },
     "execution_count": 46,
     "metadata": {},
     "output_type": "execute_result"
    }
   ],
   "source": [
    "m_factors"
   ]
  },
  {
   "cell_type": "code",
   "execution_count": 47,
   "metadata": {
    "colab": {
     "base_uri": "https://localhost:8080/",
     "height": 34
    },
    "colab_type": "code",
    "id": "M2RT1SUuurlx",
    "outputId": "4a5bf5fb-fe23-40d6-f544-2778b1ef87b8"
   },
   "outputs": [
    {
     "data": {
      "text/plain": [
       "0.5719228231215543"
      ]
     },
     "execution_count": 47,
     "metadata": {},
     "output_type": "execute_result"
    }
   ],
   "source": [
    "marcy_factors @ m_factors"
   ]
  },
  {
   "cell_type": "code",
   "execution_count": 48,
   "metadata": {
    "colab": {
     "base_uri": "https://localhost:8080/",
     "height": 34
    },
    "colab_type": "code",
    "id": "XJax1TD5Bp2O",
    "outputId": "4773e0e2-3e10-410e-b063-a527356314d2"
   },
   "outputs": [
    {
     "data": {
      "text/plain": [
       "0.5719228231215543"
      ]
     },
     "execution_count": 48,
     "metadata": {},
     "output_type": "execute_result"
    }
   ],
   "source": [
    "marcy_factors.dot(m_factors)"
   ]
  },
  {
   "cell_type": "code",
   "execution_count": 49,
   "metadata": {
    "colab": {},
    "colab_type": "code",
    "id": "baFGUispurl0"
   },
   "outputs": [],
   "source": [
    "marcy_preds = train_predictions[train_predictions['userId'] == 126]"
   ]
  },
  {
   "cell_type": "code",
   "execution_count": 50,
   "metadata": {
    "colab": {
     "base_uri": "https://localhost:8080/",
     "height": 459
    },
    "colab_type": "code",
    "id": "vchzwA5furl3",
    "outputId": "38ddc50d-7f26-4740-ffba-ecd3f2849ec8"
   },
   "outputs": [
    {
     "name": "stdout",
     "output_type": "stream",
     "text": [
      "+------+-------+------+----------+\n",
      "|userId|movieId|rating|prediction|\n",
      "+------+-------+------+----------+\n",
      "|   126|     34|   3.0|  3.182831|\n",
      "|   126|     47|   5.0| 3.2512407|\n",
      "|   126|    150|   4.0| 3.7855096|\n",
      "|   126|    153|   4.0| 3.3547292|\n",
      "|   126|    161|   3.0| 3.6528955|\n",
      "|   126|    185|   3.0|  3.569079|\n",
      "|   126|    208|   2.0| 2.3691292|\n",
      "|   126|    231|   1.0| 2.1674452|\n",
      "|   126|    288|   1.0| 1.6922612|\n",
      "|   126|    292|   3.0|  3.393481|\n",
      "|   126|    296|   1.0| 2.8955328|\n",
      "|   126|    318|   5.0|   3.81286|\n",
      "|   126|    329|   4.0| 3.4668243|\n",
      "|   126|    339|   3.0|  3.905585|\n",
      "|   126|    344|   1.0|  2.002422|\n",
      "|   126|    349|   4.0| 3.7426054|\n",
      "|   126|    356|   4.0| 4.2265134|\n",
      "|   126|    364|   5.0| 3.8689878|\n",
      "|   126|    367|   5.0| 3.4152043|\n",
      "|   126|    377|   5.0| 4.0025735|\n",
      "+------+-------+------+----------+\n",
      "only showing top 20 rows\n",
      "\n"
     ]
    }
   ],
   "source": [
    "marcy_preds.sort('movieId').show()"
   ]
  },
  {
   "cell_type": "code",
   "execution_count": 51,
   "metadata": {
    "colab": {
     "base_uri": "https://localhost:8080/",
     "height": 34
    },
    "colab_type": "code",
    "id": "PrPN6iB9url5",
    "outputId": "782b155b-69d0-4c07-de2b-5e954989b12f",
    "scrolled": true
   },
   "outputs": [
    {
     "name": "stdout",
     "output_type": "stream",
     "text": [
      "\n"
     ]
    }
   ],
   "source": [
    "!grep \"^126,\" < data/movies.csv"
   ]
  },
  {
   "cell_type": "code",
   "execution_count": 52,
   "metadata": {
    "colab": {},
    "colab_type": "code",
    "id": "piEKuZmcurl7"
   },
   "outputs": [],
   "source": [
    "recs = als_model.recommendForAllUsers(numItems=10)"
   ]
  },
  {
   "cell_type": "code",
   "execution_count": 53,
   "metadata": {
    "colab": {
     "base_uri": "https://localhost:8080/",
     "height": 187
    },
    "colab_type": "code",
    "id": "Lnq3-J25url9",
    "outputId": "4c10d996-f878-450c-b80f-ae9e9e13a864"
   },
   "outputs": [
    {
     "data": {
      "text/plain": [
       "[Row(movieId=1939, rating=5.108115196228027),\n",
       " Row(movieId=3142, rating=4.8823113441467285),\n",
       " Row(movieId=3086, rating=4.864048480987549),\n",
       " Row(movieId=2316, rating=4.760489463806152),\n",
       " Row(movieId=6732, rating=4.684388160705566),\n",
       " Row(movieId=1727, rating=4.631467342376709),\n",
       " Row(movieId=2990, rating=4.616357803344727),\n",
       " Row(movieId=1172, rating=4.594834804534912),\n",
       " Row(movieId=1096, rating=4.569124221801758),\n",
       " Row(movieId=940, rating=4.51115608215332)]"
      ]
     },
     "execution_count": 53,
     "metadata": {},
     "output_type": "execute_result"
    }
   ],
   "source": [
    "recs[recs['userId']==126].first()['recommendations']"
   ]
  },
  {
   "cell_type": "code",
   "execution_count": 54,
   "metadata": {
    "colab": {
     "base_uri": "https://localhost:8080/",
     "height": 34
    },
    "colab_type": "code",
    "id": "RS_d_FA5url_",
    "outputId": "4cb9a176-6495-413b-f449-8d9d8ff2449c"
   },
   "outputs": [
    {
     "name": "stdout",
     "output_type": "stream",
     "text": [
      "\n"
     ]
    }
   ],
   "source": [
    "!grep \"^3682,\" < data/movies.csv"
   ]
  },
  {
   "cell_type": "markdown",
   "metadata": {},
   "source": [
    "## Parameters to tune\n",
    "\n",
    "- `maxIter`: the maximum number of iterations to run (defaults to 10)\n",
    "- `rank`: the number of latent factors in the model (defaults to 10)\n",
    "- `regParam`: the regularization parameter in ALS (defaults to 1.0)\n",
    "\n",
    "\n",
    "## Strengths of ALS\n",
    "\n",
    "- Helpful when analysis of content is expensive for difficult\n",
    "- Requires little domain knowledge to create recommendations\n",
    "- You don't need features of the user or item to create recommendations\n",
    "\n",
    "## Weaknesses with ALS\n",
    "\n",
    "- Cold start:  When we have new users or items that have no rating history and on which the model has not been trained.\n",
    "- \"Gray Sheep\":  When the customer are very different from other customers\n",
    "- Not very scalable\n"
   ]
  },
  {
   "cell_type": "markdown",
   "metadata": {
    "colab_type": "text",
    "id": "Ell8Yo3CurmB"
   },
   "source": [
    "## Some great technical resources:\n",
    "\n",
    "- [good one from Stanford](http://stanford.edu/~rezab/classes/cme323/S15/notes/lec14.pdf)\n",
    "- [the netflix recommendation project](https://www.netflixprize.com/assets/GrandPrize2009_BPC_BellKor.pdf)"
   ]
  }
 ],
 "metadata": {
  "colab": {
   "collapsed_sections": [
    "9QFXaP-Aurkz",
    "n6zPsSNuurk1",
    "6djUpw42urk3",
    "GbcP62fLurk3"
   ],
   "name": "spark-als-enkeboll.ipynb",
   "provenance": [],
   "toc_visible": true
  },
  "kernelspec": {
   "display_name": "Python 3",
   "language": "python",
   "name": "python3"
  },
  "language_info": {
   "codemirror_mode": {
    "name": "ipython",
    "version": 3
   },
   "file_extension": ".py",
   "mimetype": "text/x-python",
   "name": "python",
   "nbconvert_exporter": "python",
   "pygments_lexer": "ipython3",
   "version": "3.7.3"
  },
  "toc": {
   "base_numbering": 1,
   "nav_menu": {},
   "number_sections": true,
   "sideBar": true,
   "skip_h1_title": false,
   "title_cell": "Table of Contents",
   "title_sidebar": "Contents",
   "toc_cell": false,
   "toc_position": {},
   "toc_section_display": true,
   "toc_window_display": false
  }
 },
 "nbformat": 4,
 "nbformat_minor": 4
}

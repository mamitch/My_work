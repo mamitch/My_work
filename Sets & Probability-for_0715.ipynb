{
 "cells": [
  {
   "cell_type": "markdown",
   "metadata": {},
   "source": [
    "## What is Set Theory?\n",
    "\n",
    "Set theory is the mathematical logic behind objects.  Almost anything can be thought of in the context of set theory.\n",
    "\n",
    "<img src='images/prob2-venn_b.png' width=550>\n",
    "\n",
    "### What is a set?\n",
    "\n",
    "A set is a collection of items.\n",
    "\n",
    "### Why do we need to know what a set is?\n",
    "\n",
    "Probability and statistics are based on counting the elements in sets and manipulating set operations\n",
    "\n",
    "\n",
    "\n",
    "\n",
    "\n",
    "<br />\n",
    "<br/>\n",
    "\n",
    "This image should remind you of a [similar concept](https://www.w3schools.com/sql/sql_join.asp) we've talked about in SQL.\n",
    "\n",
    "\n",
    "Visualization of [Set Theory](https://seeing-theory.brown.edu/compound-probability/index.html#section1)"
   ]
  },
  {
   "cell_type": "markdown",
   "metadata": {
    "slideshow": {
     "slide_type": "slide"
    }
   },
   "source": [
    "### *Activity:  We are trying to create buddies based on staff interest for a staff trip. <br>\n",
    "Who should buddy with whom based on interests?\n",
    "\n",
    "This is another way to look at sets.<br>\n",
    "And we can still use the math!"
   ]
  },
  {
   "cell_type": "code",
   "execution_count": 10,
   "metadata": {
    "slideshow": {
     "slide_type": "fragment"
    }
   },
   "outputs": [],
   "source": [
    "Robin = [\"art\", \"traveling\", \"wine\", \"doodling\", \"tech\", \"gadgets\"]\n",
    "Andy = [\"rock-climbing\", \"traveling\", \"dad jokes\", \"ice cream\"]\n",
    "Alison = [\"wine\", \"traveling\", \"schitts creek\", \"dogs\"]\n",
    "Su = [\"schitts creek\", \"dogs\" \"tarot card reading\", \"croquet\", \"taxonomy\"]\n",
    "Ammar = [\"wine\", \"ice cream\", \"dogs\", \"zookeeping\", \"traveling\"]"
   ]
  },
  {
   "cell_type": "markdown",
   "metadata": {
    "slideshow": {
     "slide_type": "slide"
    }
   },
   "source": [
    "**Task**:\n",
    "\n",
    "- In groups of 2-3, draw the venn diagram of interests of each person and how they overlap. \n",
    "- Then try the set notation learned in the Learn.co find the overlap answers with python"
   ]
  },
  {
   "cell_type": "code",
   "execution_count": null,
   "metadata": {},
   "outputs": [],
   "source": [
    "#your code here"
   ]
  },
  {
   "cell_type": "markdown",
   "metadata": {},
   "source": [
    "## Key Concepts and Symbols\n",
    "\n",
    "From that perspective, the fundamental ingredient of probability theory is an **experiment** that can be repeated, at least hypothetically, under essentially identical conditions. This experiment may lead to different outcomes on different **trials** or single performances of an experiment. The set of all possible outcomes or results of an experiment is then called a **\"sample space\"**. An **event** is a well-defined subset of the sample space.\n",
    "\n"
   ]
  },
  {
   "cell_type": "markdown",
   "metadata": {},
   "source": [
    "<img src=\"images/prob_symbols.png\" width=550>"
   ]
  },
  {
   "cell_type": "markdown",
   "metadata": {},
   "source": [
    "## What is probability?\n",
    "\n",
    "Probability is the measure of the likelihood that an event will occur."
   ]
  },
  {
   "cell_type": "markdown",
   "metadata": {},
   "source": [
    "<img src='images/prob_scale.gif'>"
   ]
  },
  {
   "cell_type": "markdown",
   "metadata": {},
   "source": [
    "Probability is quantified as a number between 0 and 1, where 0 indicates impossibility and 1 indicates certainty.\n",
    "\n"
   ]
  },
  {
   "cell_type": "markdown",
   "metadata": {},
   "source": [
    "## Why probability is important?\n",
    "\n",
    "Uncertainty and randomness occur in many aspects of our daily life and having a good knowledge of probability helps us make sense of these uncertainties. Learning about probability helps us make informed judgments on what is likely to happen, based on a pattern of data collected previously or an estimate."
   ]
  },
  {
   "cell_type": "markdown",
   "metadata": {},
   "source": [
    "## How Probability is used in Data Science?\n",
    "\n",
    "Data science often uses statistical inferences to predict or analyze trends from data, and statistical inferences uses probability distributions of data. Hence knowing probability and its applications are important to work effectively on data science problems."
   ]
  },
  {
   "cell_type": "markdown",
   "metadata": {},
   "source": [
    "## Calculating Probability For Single Events\n"
   ]
  },
  {
   "cell_type": "markdown",
   "metadata": {},
   "source": [
    "To calculate this probability, you divide the number of possible event outcomes by the sample space."
   ]
  },
  {
   "cell_type": "markdown",
   "metadata": {},
   "source": [
    "$P(A) = \\frac{Event \\ outcomes \\ favorable \\ to \\ A}{Sample \\ space}$"
   ]
  },
  {
   "cell_type": "code",
   "execution_count": 3,
   "metadata": {},
   "outputs": [
    {
     "name": "stdout",
     "output_type": "stream",
     "text": [
      "7.69%\n"
     ]
    }
   ],
   "source": [
    "# Sample Space\n",
    "cards = 52\n",
    "\n",
    "# Outcomes\n",
    "aces = 4\n",
    "\n",
    "# Divide possible outcomes by the sample set\n",
    "ace_probability = aces / cards\n",
    "\n",
    "# Print probability rounded to two decimal places\n",
    "print(f\"{ace_probability:.2%}\")"
   ]
  },
  {
   "cell_type": "code",
   "execution_count": 13,
   "metadata": {},
   "outputs": [
    {
     "name": "stdout",
     "output_type": "stream",
     "text": [
      "25.00%\n",
      "23.08%\n",
      "1.92%\n"
     ]
    }
   ],
   "source": [
    "# Create function that returns probability percent rounded to one decimal place\n",
    "def event_probability(event_outcomes, sample_space):\n",
    "    probability = (event_outcomes / sample_space)\n",
    "    return probability\n",
    "\n",
    "# Sample Space\n",
    "cards = 52\n",
    "\n",
    "# Determine the probability of drawing a heart\n",
    "hearts = 13\n",
    "heart_probability = event_probability(hearts, cards)\n",
    "\n",
    "# Determine the probability of drawing a face card\n",
    "face_cards = 12\n",
    "face_card_probability = event_probability(face_cards, cards)\n",
    "\n",
    "# Determine the probability of drawing the queen of hearts\n",
    "queen_of_hearts = 1\n",
    "queen_of_hearts_probability = event_probability(queen_of_hearts, cards)\n",
    "\n",
    "# Print each probability\n",
    "#print(str(heart_probability) + '%')\n",
    "#print(str(face_card_probability) + '%')\n",
    "#print(str(queen_of_hearts_probability) + '%')\n",
    "\n",
    "print(f\"{heart_probability:.2%}\")\n",
    "print(f\"{face_card_probability:.2%}\")\n",
    "print(f\"{queen_of_hearts_probability:.2%}\")"
   ]
  },
  {
   "cell_type": "markdown",
   "metadata": {},
   "source": [
    "![xkcd](images/increased_risk_2x.png)\n",
    "\n",
    "[xkcd comic 1252](https://xkcd.com/1252/)"
   ]
  },
  {
   "cell_type": "markdown",
   "metadata": {},
   "source": [
    "## Probability with Combinations and Permutations\n",
    "\n",
    "[View concepts online](https://seeing-theory.brown.edu/compound-probability/index.html#section1)"
   ]
  },
  {
   "cell_type": "markdown",
   "metadata": {},
   "source": [
    "### Permutations\n",
    "Permutations are the number of ways a subset of a specified size can be arranged from a given set, generally without replacement. An example of this would be a 4 digit PIN with no repeated digits. The probability of having no repeated digits can be calculated by executing the following calculation:\n",
    "\n",
    "$10 \\times 9 \\times 8 \\times 7$\n",
    "\n"
   ]
  },
  {
   "cell_type": "markdown",
   "metadata": {},
   "source": [
    "When calculating the permutations, this means that you consider the full set of the numbers to choose from, which is in reality\n",
    "\n",
    "$10 \\times 9 \\times 8 \\times 7 \\times 6 \\times 5 \\times 4 \\times 3 \\times 2 \\times 1$"
   ]
  },
  {
   "cell_type": "markdown",
   "metadata": {},
   "source": [
    "and you divide the result of this calculation by the difference in the numbers to choose from (10) and the numbers that you actually choose (4). \n",
    "\n",
    "$6 \\times 5 \\times 4 \\times 3 \\times 2 \\times 1$"
   ]
  },
  {
   "cell_type": "markdown",
   "metadata": {},
   "source": [
    "Note that you can also write the above as\n",
    "\n",
    "$10P4 = \\frac{10!}{(10 - 4)!}$"
   ]
  },
  {
   "cell_type": "markdown",
   "metadata": {},
   "source": [
    "Generalizing the calculations above, this means that the formula to calculate permutations is the following:\n",
    "\n",
    "$nPk = \\frac{n!}{(n - k)!}$"
   ]
  },
  {
   "cell_type": "markdown",
   "metadata": {},
   "source": [
    "### Combinations\n",
    "\n",
    "\n",
    "You have seen that when you're working with permutations, the order matters. With combinations, however, this isn't the case: the order doesn't matter. Combinations refers to the number of ways a subset of a specified size can be drawn from a given set."
   ]
  },
  {
   "cell_type": "markdown",
   "metadata": {},
   "source": [
    "An example here is the following situation where you have your deck of cards, which consists of 52 cards. Three cards are going to be taken out of the deck. How many different ways can you choose these three cards?"
   ]
  },
  {
   "cell_type": "markdown",
   "metadata": {},
   "source": [
    "This means that if you want to figure out how many combinations you actually have, you just create all the permutations and divide by all the redundancies.\n",
    "\n",
    "$52C3 = \\frac{\\frac {52!}{(52-3)!}}{3!}$\n",
    "\n",
    "or \n",
    "\n",
    "$nCk = \\frac{nPk}{k!}$"
   ]
  },
  {
   "cell_type": "markdown",
   "metadata": {},
   "source": [
    "#### *Activity:  Figure out the unique combinations of the letters in your name"
   ]
  },
  {
   "cell_type": "markdown",
   "metadata": {},
   "source": [
    "## Independent versus Dependent Events\n"
   ]
  },
  {
   "cell_type": "markdown",
   "metadata": {},
   "source": [
    "Events can be classified into two categories: dependent or independent.\n",
    "\n",
    "Independent events are events that don't impact the probability of the other event(s). Two events A and B are independent if knowing whether event A occurred gives no information about whether event B occurred.\n",
    "\n",
    "[View online](https://seeing-theory.brown.edu/compound-probability/index.html#section1)\n",
    "\n",
    "[Conditional Probability](http://setosa.io/conditional/)"
   ]
  },
  {
   "cell_type": "markdown",
   "metadata": {},
   "source": [
    "For example, draw an Ace from the deck, replace the card, shuffle the deck, and then drawing another card. The probability of drawing an Ace the first draw is the same as the second."
   ]
  },
  {
   "cell_type": "markdown",
   "metadata": {},
   "source": [
    "Dependent events, then, are events that have an impact on the probability of the other event(s).\n",
    "\n",
    "For example, you draw a card from the deck and then draw a second card from the deck without replacing the first card. In this case, the probability of drawing an Ace the fist draw is not the same as the probability of drawing an Ace on the second draw.\n",
    "\n"
   ]
  },
  {
   "cell_type": "markdown",
   "metadata": {},
   "source": [
    "Events A and B (which have nonzero probability) are independent if and only if one of the following equivalent statements holds:\n",
    "\n",
    "$P (A ∩ B) = P(A)P(B)$\n",
    "\n",
    "The probability of events A and B to occur equals the product of the probabilities of each event occurring.\n",
    "\n",
    "$P (A|B) = P(A)$\n",
    "\n",
    "The probability of event A to occur if an event B has already occurred is equal to the probability of an event A to occur.\n",
    "\n",
    "$P (B|A) = P(B)$\n",
    "\n",
    "The probability of an event B to occur if an event A has already occurred is the same as the probability of an event B to occur."
   ]
  },
  {
   "cell_type": "markdown",
   "metadata": {},
   "source": [
    "Let's consider the following example, where you already know the probability of drawing an Ace on the first draw. Now you need to determine the probability of drawing an Ace on the second draw, if the first card drawn was either a King or an Ace:"
   ]
  },
  {
   "cell_type": "code",
   "execution_count": 15,
   "metadata": {},
   "outputs": [
    {
     "name": "stdout",
     "output_type": "stream",
     "text": [
      "7.843137%\n",
      "5.882353%\n"
     ]
    }
   ],
   "source": [
    "# Sample Space\n",
    "cards = 52\n",
    "cards_drawn = 1 \n",
    "cards = cards - cards_drawn \n",
    "\n",
    "# Determine the probability of drawing an Ace after drawing a King on the first draw\n",
    "aces = 4\n",
    "ace_probability1 = event_probability(aces, cards)\n",
    "\n",
    "# Determine the probability of drawing an Ace after drawing an Ace on the first draw\n",
    "aces_drawn = 1\n",
    "aces = aces - aces_drawn\n",
    "ace_probability2 = event_probability(aces, cards)\n",
    "\n",
    "# Print each probability\n",
    "print(f\"{ace_probability1:2%}\")\n",
    "print(f\"{ace_probability2:2%}\")"
   ]
  },
  {
   "cell_type": "markdown",
   "metadata": {},
   "source": [
    "## Multiple Events\n",
    "\n",
    "\n",
    "An example of multiple events is the question \"what is the probability of eating three oatmeal cookies followed by a chocolate chip cookie when you eat four cookies out of a cookie jar filled with these two types of cookies?\" Eating four cookies is actually four events.\n",
    "\n",
    "To calculate the probability for multiple events, you basically determine the number of events (4 in this case), you then determine the probability for each event occurring separately and you multiply all of these probabilities to get your final answer. In the example that was described above, this would be 0.5 x 0.5 x 0.5 x 0.5 or 0.0625.\n",
    "\n",
    "$P(Event A \\cap Event B)=P(Event A) \\times P(Event B)$"
   ]
  },
  {
   "cell_type": "markdown",
   "metadata": {},
   "source": [
    "For your deck of playing cards, you could ask yourself the question \"What is the probability of getting three Hearts when choosing without replacement?\". When you sample or choose without replacement, it means that you choose a card but do not put it back, so that your final selection cannot include that same card. In this case, your probability calculation will be the following:\n",
    "\n",
    "13/52 x 12/51 x 11/50."
   ]
  },
  {
   "cell_type": "markdown",
   "metadata": {},
   "source": [
    "## Mutually Exclusive Events\n",
    "When you're working with multiple events, you might also have events that are mutually exclusive or disjoint: they cannot both occur. In such cases, you might want to calculate the probability (or the union) of any of multiple mutually exclusive events occurring. In such cases, you don't multiply probabilities, but you simply add together the probability of each event occurring:\n",
    "\n",
    "$P(Event A \\cup Event B) = P(Event A) + P(Event B)$\n",
    "\n"
   ]
  },
  {
   "cell_type": "markdown",
   "metadata": {},
   "source": [
    "To determine the probability of drawing a heart or drawing a club, add the probability of drawing a heart to the probability of drawing a club.\n",
    "\n",
    "$P(Heart \\cup Club) = (\\frac{13}{52}) + (\\frac{13}{52}) $ "
   ]
  },
  {
   "cell_type": "markdown",
   "metadata": {},
   "source": [
    "Now it's time for you to determine the probability of the following mutually exclusive events:\n",
    "\n",
    "1. Drawing a heart or drawing a club.\n",
    "2. Drawing an ace, a king or a queen."
   ]
  },
  {
   "cell_type": "code",
   "execution_count": 19,
   "metadata": {},
   "outputs": [
    {
     "name": "stdout",
     "output_type": "stream",
     "text": [
      "50.98%\n",
      "23.53%\n"
     ]
    }
   ],
   "source": [
    "# Calculate the probability of drawing a heart or a club\n",
    "hearts = 13\n",
    "clubs = 13\n",
    "heart_or_club = event_probability(hearts, cards) + event_probability(clubs, cards)\n",
    "\n",
    "# Calculate the probability of drawing an ace, king, or a queen\n",
    "aces = 4\n",
    "kings = 4\n",
    "queens = 4\n",
    "ace_king_or_queen = event_probability(aces, cards) + event_probability(kings, cards) + event_probability(queens, cards)\n",
    "\n",
    "print(f'{heart_or_club:.2%}')\n",
    "print(f'{ace_king_or_queen:.2%}')"
   ]
  },
  {
   "cell_type": "markdown",
   "metadata": {},
   "source": [
    "## Non-Mutually Exclusive Events\n",
    "You can imagine that not all events are mutually exclusive: Drawing a heart or drawing an ace are two non-mutually exclusive events. The ace of hearts is both an ace and a heart. When events are not mutually exclusive, you must correct for the overlap.\n",
    "\n",
    "$P(Event A \\cup Event B) = P(Event A) + P(Event B) - P(EventA \\cup EventB)$"
   ]
  },
  {
   "cell_type": "markdown",
   "metadata": {},
   "source": [
    "To calculate the probability of drawing a heart or an ace, add the probability of drawing a heart to the probability of drawing an ace and then subtract the probability of drawing the ace of hearts.\n",
    "\n",
    "$P(Heart \\cup Ace) = (\\frac{13}{52}) + (\\frac{4}{52}) - (\\frac{1}{52})$"
   ]
  },
  {
   "cell_type": "markdown",
   "metadata": {},
   "source": [
    "Calculate the probability of the following non mutually exclusive events:\n",
    "\n",
    "1. Drawing a heart or an ace.\n",
    "2. Drawing a red card or drawing a face card."
   ]
  },
  {
   "cell_type": "code",
   "execution_count": 13,
   "metadata": {},
   "outputs": [],
   "source": [
    "# your code here"
   ]
  },
  {
   "cell_type": "markdown",
   "metadata": {},
   "source": [
    "## Intersection of Independent Events\n",
    "The probability of the intersection of two independent events is determined by multiplying the probabilities of each event occurring.\n",
    "\n",
    "$P(Event A \\cap Event B) = P(Event A) \\times P(Event B)$"
   ]
  },
  {
   "cell_type": "markdown",
   "metadata": {},
   "source": [
    "If you want to know the probability of drawing an Ace from a deck of cards, replacing it, reshuffling the deck, and drawing another Ace, you multiply the probability of drawing and Ace times the probability of drawing an Ace.\n",
    "\n",
    "$P(Ace \\cap Ace) = (\\frac{4}{52}) \\times (\\frac{4}{52})$"
   ]
  },
  {
   "cell_type": "code",
   "execution_count": 8,
   "metadata": {},
   "outputs": [
    {
     "name": "stdout",
     "output_type": "stream",
     "text": [
      "0.59%\n"
     ]
    }
   ],
   "source": [
    "# Sample Space\n",
    "cards = 52\n",
    "\n",
    "# Outcomes\n",
    "aces = 4\n",
    "\n",
    "# Probability of one ace\n",
    "ace_probability = aces / cards\n",
    "\n",
    "# Probability of two consecutive independant aces \n",
    "two_aces_probability = ace_probability * ace_probability\n",
    "\n",
    "print(f\"{two_aces_probability:.2%}\")"
   ]
  },
  {
   "cell_type": "markdown",
   "metadata": {},
   "source": [
    "## Intersection of Dependent Events\n",
    "The probability of the intersection of two non independent events (Event A & Event B given A) is determined by multiplying the probability of Event A occurring times the probability of Event B given A.\n",
    "\n",
    "\n",
    "$P(Event A \\cap Event B | A) = P(Event A) \\times P(Event B | A)$"
   ]
  },
  {
   "cell_type": "markdown",
   "metadata": {},
   "source": [
    "The best starting hand you can have in Texas Hold’em is pocket Aces. If you're sitting at a table with three other players, what is the probability of being dealt two Aces?"
   ]
  },
  {
   "cell_type": "code",
   "execution_count": 15,
   "metadata": {},
   "outputs": [],
   "source": [
    "\n",
    "#your code here"
   ]
  },
  {
   "cell_type": "markdown",
   "metadata": {},
   "source": [
    "Your hand:\n",
    "<img src=\"images/yourhand.png\">\n",
    "\n",
    "Community Cards:\n",
    "    \n",
    "<img src=\"images/community.png\">"
   ]
  },
  {
   "cell_type": "markdown",
   "metadata": {},
   "source": [
    "How can you determine the probability of getting a Flush by the River?"
   ]
  },
  {
   "cell_type": "code",
   "execution_count": null,
   "metadata": {},
   "outputs": [],
   "source": []
  }
 ],
 "metadata": {
  "kernelspec": {
   "display_name": "Python 3",
   "language": "python",
   "name": "python3"
  },
  "language_info": {
   "codemirror_mode": {
    "name": "ipython",
    "version": 3
   },
   "file_extension": ".py",
   "mimetype": "text/x-python",
   "name": "python",
   "nbconvert_exporter": "python",
   "pygments_lexer": "ipython3",
   "version": "3.7.3"
  }
 },
 "nbformat": 4,
 "nbformat_minor": 2
}

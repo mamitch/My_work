{
 "cells": [
  {
   "cell_type": "markdown",
   "metadata": {},
   "source": [
    "# Hyperparameter Tuning Lab"
   ]
  },
  {
   "cell_type": "markdown",
   "metadata": {},
   "source": [
    "### Lesson Objectives:\n",
    "- Understand the difference between parameters and hyperparameters\n",
    "- Understand why we tune hyperparameters\n",
    "- Understand how hyperparameter tuning impacts the outcomes of your model\n",
    "- Apply hyperparameter tuning to your model using gridsearch and randomsearch\n",
    "- Select the \"best\" hyperparameters for your model"
   ]
  },
  {
   "cell_type": "markdown",
   "metadata": {},
   "source": [
    "## Parameters vs Hyperparameters\n",
    "\n",
    "We talk a lot about parameters and hyperparameters, but what are they?  What is the difference?"
   ]
  },
  {
   "cell_type": "markdown",
   "metadata": {
    "hidden": true
   },
   "source": [
    "![](images/meetupconsumercreditdefaultvers2all-11-638.jpg)"
   ]
  },
  {
   "cell_type": "markdown",
   "metadata": {},
   "source": [
    "<font size=\"5\"><span style=\"color:red\"> Why do we tune hyperparameters?</span></font>"
   ]
  },
  {
   "cell_type": "markdown",
   "metadata": {
    "hidden": true,
    "slideshow": {
     "slide_type": "skip"
    }
   },
   "source": [
    "We tune hyperparameters to find the set of hyperparameters that optimize the predictive ability (ex. accuracy, recall, r-squared value, RMSE, etc.)\n",
    "\n",
    "A big factor in whether a machine learning model will perform well is a lot of tweaking..."
   ]
  },
  {
   "cell_type": "markdown",
   "metadata": {
    "hidden": true
   },
   "source": [
    "![Pile of data to stir (https://xkcd.com/1838/)](images/machine_learning_xkcd.png)"
   ]
  },
  {
   "cell_type": "markdown",
   "metadata": {
    "hidden": true
   },
   "source": [
    "You can think of hyperparameters as little dials to adjust to make it easier for the machine learning model to learn"
   ]
  },
  {
   "cell_type": "markdown",
   "metadata": {
    "hidden": true
   },
   "source": [
    "![](images/dials.png)"
   ]
  },
  {
   "cell_type": "markdown",
   "metadata": {
    "hidden": true
   },
   "source": [
    "But how do we know what to adjust them to?!"
   ]
  },
  {
   "cell_type": "markdown",
   "metadata": {},
   "source": [
    "## How does this fit into the CRISP-DM Model?\n",
    "\n",
    "Let's remind ourselves about the steps of the CRISP-DM Model.\n",
    "\n",
    "![](./images/new_crisp-dm.png)"
   ]
  },
  {
   "cell_type": "markdown",
   "metadata": {},
   "source": [
    "## First let's talk data!\n",
    "\n",
    "The [data](https://www.kaggle.com/jolasa/bay-area-bike-sharing-trips) we will be using today is taken from Kaggle. This dataset contains anonymized trips data of Lyft bike sharing system(Bay Wheels), in the Bay Area from January 2019 to May 2019.\n",
    "\n",
    "\n",
    "We are going to use this data to create a model the predicts if the the member is a \"brogrammer\".  Everyone who is a male and lives in SF AND rides an electric bike is a Brogrammer.  This target has already been created for you.\n",
    "\n",
    "![bikes](images/bikes.jpg) \n",
    "![the wiggle](images/wiggle.png)"
   ]
  },
  {
   "cell_type": "markdown",
   "metadata": {},
   "source": [
    "### Let's read in the data and do some EDA\n"
   ]
  },
  {
   "cell_type": "code",
   "execution_count": 1,
   "metadata": {},
   "outputs": [
    {
     "name": "stderr",
     "output_type": "stream",
     "text": [
      "/anaconda3/lib/python3.7/site-packages/sklearn/utils/deprecation.py:144: FutureWarning: The sklearn.metrics.classification module is  deprecated in version 0.22 and will be removed in version 0.24. The corresponding classes / functions should instead be imported from sklearn.metrics. Anything that cannot be imported from sklearn.metrics is now part of the private API.\n",
      "  warnings.warn(message, FutureWarning)\n"
     ]
    }
   ],
   "source": [
    "import pandas as pd\n",
    "import matplotlib as plt\n",
    "import seaborn as sns\n",
    "from sklearn.model_selection import train_test_split\n",
    "from sklearn.model_selection import GridSearchCV\n",
    "from sklearn.model_selection import RandomizedSearchCV\n",
    "from sklearn.dummy import DummyClassifier\n",
    "from sklearn.pipeline import make_pipeline\n",
    "from sklearn.preprocessing import StandardScaler\n",
    "\n",
    "\n",
    "from sklearn.ensemble import RandomForestClassifier\n",
    "from sklearn.tree import DecisionTreeClassifier\n",
    "from sklearn.metrics import accuracy_score\n",
    "from sklearn.metrics import classification_report\n",
    "\n",
    "\n",
    "from sklearn.preprocessing import LabelEncoder\n",
    "\n",
    "from yellowbrick.classifier import ROCAUC\n",
    "from yellowbrick.classifier import ConfusionMatrix\n",
    "from yellowbrick.classifier import ClassificationReport"
   ]
  },
  {
   "cell_type": "code",
   "execution_count": 2,
   "metadata": {},
   "outputs": [
    {
     "data": {
      "text/html": [
       "<div>\n",
       "<style scoped>\n",
       "    .dataframe tbody tr th:only-of-type {\n",
       "        vertical-align: middle;\n",
       "    }\n",
       "\n",
       "    .dataframe tbody tr th {\n",
       "        vertical-align: top;\n",
       "    }\n",
       "\n",
       "    .dataframe thead th {\n",
       "        text-align: right;\n",
       "    }\n",
       "</style>\n",
       "<table border=\"1\" class=\"dataframe\">\n",
       "  <thead>\n",
       "    <tr style=\"text-align: right;\">\n",
       "      <th></th>\n",
       "      <th>trip_duration_sec</th>\n",
       "      <th>start_station_id</th>\n",
       "      <th>end_station_id</th>\n",
       "      <th>bike_id</th>\n",
       "      <th>member_birth_year</th>\n",
       "      <th>trip_duration_min</th>\n",
       "      <th>bg</th>\n",
       "      <th>month_April</th>\n",
       "      <th>month_Februrary</th>\n",
       "      <th>month_January</th>\n",
       "      <th>month_March</th>\n",
       "      <th>month_May</th>\n",
       "      <th>user_type_Customer</th>\n",
       "      <th>user_type_Subscriber</th>\n",
       "    </tr>\n",
       "  </thead>\n",
       "  <tbody>\n",
       "    <tr>\n",
       "      <th>4</th>\n",
       "      <td>1128</td>\n",
       "      <td>124.0</td>\n",
       "      <td>5.0</td>\n",
       "      <td>877</td>\n",
       "      <td>1973.0</td>\n",
       "      <td>18.80</td>\n",
       "      <td>Brogrammer</td>\n",
       "      <td>1</td>\n",
       "      <td>0</td>\n",
       "      <td>0</td>\n",
       "      <td>0</td>\n",
       "      <td>0</td>\n",
       "      <td>0</td>\n",
       "      <td>1</td>\n",
       "    </tr>\n",
       "    <tr>\n",
       "      <th>5</th>\n",
       "      <td>1388</td>\n",
       "      <td>243.0</td>\n",
       "      <td>247.0</td>\n",
       "      <td>3234</td>\n",
       "      <td>1997.0</td>\n",
       "      <td>23.13</td>\n",
       "      <td>Brogrammer</td>\n",
       "      <td>1</td>\n",
       "      <td>0</td>\n",
       "      <td>0</td>\n",
       "      <td>0</td>\n",
       "      <td>0</td>\n",
       "      <td>1</td>\n",
       "      <td>0</td>\n",
       "    </tr>\n",
       "    <tr>\n",
       "      <th>6</th>\n",
       "      <td>920</td>\n",
       "      <td>202.0</td>\n",
       "      <td>220.0</td>\n",
       "      <td>3262</td>\n",
       "      <td>1976.0</td>\n",
       "      <td>15.33</td>\n",
       "      <td>Brogrammer</td>\n",
       "      <td>1</td>\n",
       "      <td>0</td>\n",
       "      <td>0</td>\n",
       "      <td>0</td>\n",
       "      <td>0</td>\n",
       "      <td>0</td>\n",
       "      <td>1</td>\n",
       "    </tr>\n",
       "    <tr>\n",
       "      <th>7</th>\n",
       "      <td>725</td>\n",
       "      <td>44.0</td>\n",
       "      <td>121.0</td>\n",
       "      <td>2706</td>\n",
       "      <td>1973.0</td>\n",
       "      <td>12.08</td>\n",
       "      <td>Brogrammer</td>\n",
       "      <td>1</td>\n",
       "      <td>0</td>\n",
       "      <td>0</td>\n",
       "      <td>0</td>\n",
       "      <td>0</td>\n",
       "      <td>1</td>\n",
       "      <td>0</td>\n",
       "    </tr>\n",
       "    <tr>\n",
       "      <th>8</th>\n",
       "      <td>488</td>\n",
       "      <td>21.0</td>\n",
       "      <td>64.0</td>\n",
       "      <td>860</td>\n",
       "      <td>1986.0</td>\n",
       "      <td>8.13</td>\n",
       "      <td>Brogrammer</td>\n",
       "      <td>1</td>\n",
       "      <td>0</td>\n",
       "      <td>0</td>\n",
       "      <td>0</td>\n",
       "      <td>0</td>\n",
       "      <td>0</td>\n",
       "      <td>1</td>\n",
       "    </tr>\n",
       "  </tbody>\n",
       "</table>\n",
       "</div>"
      ],
      "text/plain": [
       "   trip_duration_sec  start_station_id  end_station_id  bike_id  \\\n",
       "4               1128             124.0             5.0      877   \n",
       "5               1388             243.0           247.0     3234   \n",
       "6                920             202.0           220.0     3262   \n",
       "7                725              44.0           121.0     2706   \n",
       "8                488              21.0            64.0      860   \n",
       "\n",
       "   member_birth_year  trip_duration_min          bg  month_April  \\\n",
       "4             1973.0              18.80  Brogrammer            1   \n",
       "5             1997.0              23.13  Brogrammer            1   \n",
       "6             1976.0              15.33  Brogrammer            1   \n",
       "7             1973.0              12.08  Brogrammer            1   \n",
       "8             1986.0               8.13  Brogrammer            1   \n",
       "\n",
       "   month_Februrary  month_January  month_March  month_May  user_type_Customer  \\\n",
       "4                0              0            0          0                   0   \n",
       "5                0              0            0          0                   1   \n",
       "6                0              0            0          0                   0   \n",
       "7                0              0            0          0                   1   \n",
       "8                0              0            0          0                   0   \n",
       "\n",
       "   user_type_Subscriber  \n",
       "4                     1  \n",
       "5                     0  \n",
       "6                     1  \n",
       "7                     0  \n",
       "8                     1  "
      ]
     },
     "execution_count": 2,
     "metadata": {},
     "output_type": "execute_result"
    }
   ],
   "source": [
    "bike=pd.read_pickle('./data/bike.pkl')\n",
    "bike.head()"
   ]
  },
  {
   "cell_type": "code",
   "execution_count": 3,
   "metadata": {},
   "outputs": [
    {
     "data": {
      "text/plain": [
       "Brogrammer     706660\n",
       "Nice_person    240182\n",
       "Name: bg, dtype: int64"
      ]
     },
     "execution_count": 3,
     "metadata": {},
     "output_type": "execute_result"
    }
   ],
   "source": [
    "bike.bg.value_counts()"
   ]
  },
  {
   "cell_type": "code",
   "execution_count": 4,
   "metadata": {},
   "outputs": [
    {
     "data": {
      "text/html": [
       "<div>\n",
       "<style scoped>\n",
       "    .dataframe tbody tr th:only-of-type {\n",
       "        vertical-align: middle;\n",
       "    }\n",
       "\n",
       "    .dataframe tbody tr th {\n",
       "        vertical-align: top;\n",
       "    }\n",
       "\n",
       "    .dataframe thead th {\n",
       "        text-align: right;\n",
       "    }\n",
       "</style>\n",
       "<table border=\"1\" class=\"dataframe\">\n",
       "  <thead>\n",
       "    <tr style=\"text-align: right;\">\n",
       "      <th></th>\n",
       "      <th>trip_duration_sec</th>\n",
       "      <th>start_station_id</th>\n",
       "      <th>end_station_id</th>\n",
       "      <th>bike_id</th>\n",
       "      <th>member_birth_year</th>\n",
       "      <th>trip_duration_min</th>\n",
       "      <th>month_April</th>\n",
       "      <th>month_Februrary</th>\n",
       "      <th>month_January</th>\n",
       "      <th>month_March</th>\n",
       "      <th>month_May</th>\n",
       "      <th>user_type_Customer</th>\n",
       "      <th>user_type_Subscriber</th>\n",
       "    </tr>\n",
       "  </thead>\n",
       "  <tbody>\n",
       "    <tr>\n",
       "      <th>count</th>\n",
       "      <td>946842.000000</td>\n",
       "      <td>946842.000000</td>\n",
       "      <td>946842.000000</td>\n",
       "      <td>946842.000000</td>\n",
       "      <td>946842.000000</td>\n",
       "      <td>946842.000000</td>\n",
       "      <td>946842.000000</td>\n",
       "      <td>946842.000000</td>\n",
       "      <td>946842.000000</td>\n",
       "      <td>946842.000000</td>\n",
       "      <td>946842.000000</td>\n",
       "      <td>946842.000000</td>\n",
       "      <td>946842.000000</td>\n",
       "    </tr>\n",
       "    <tr>\n",
       "      <th>mean</th>\n",
       "      <td>578.960272</td>\n",
       "      <td>138.468291</td>\n",
       "      <td>135.722913</td>\n",
       "      <td>3891.877124</td>\n",
       "      <td>1984.673319</td>\n",
       "      <td>9.649340</td>\n",
       "      <td>0.226212</td>\n",
       "      <td>0.176227</td>\n",
       "      <td>0.182460</td>\n",
       "      <td>0.241813</td>\n",
       "      <td>0.173288</td>\n",
       "      <td>0.098418</td>\n",
       "      <td>0.901582</td>\n",
       "    </tr>\n",
       "    <tr>\n",
       "      <th>std</th>\n",
       "      <td>324.429294</td>\n",
       "      <td>112.670023</td>\n",
       "      <td>111.868923</td>\n",
       "      <td>1972.289709</td>\n",
       "      <td>10.045458</td>\n",
       "      <td>5.407152</td>\n",
       "      <td>0.418378</td>\n",
       "      <td>0.381013</td>\n",
       "      <td>0.386224</td>\n",
       "      <td>0.428182</td>\n",
       "      <td>0.378496</td>\n",
       "      <td>0.297879</td>\n",
       "      <td>0.297879</td>\n",
       "    </tr>\n",
       "    <tr>\n",
       "      <th>min</th>\n",
       "      <td>61.000000</td>\n",
       "      <td>3.000000</td>\n",
       "      <td>3.000000</td>\n",
       "      <td>11.000000</td>\n",
       "      <td>1878.000000</td>\n",
       "      <td>1.020000</td>\n",
       "      <td>0.000000</td>\n",
       "      <td>0.000000</td>\n",
       "      <td>0.000000</td>\n",
       "      <td>0.000000</td>\n",
       "      <td>0.000000</td>\n",
       "      <td>0.000000</td>\n",
       "      <td>0.000000</td>\n",
       "    </tr>\n",
       "    <tr>\n",
       "      <th>25%</th>\n",
       "      <td>327.000000</td>\n",
       "      <td>47.000000</td>\n",
       "      <td>44.000000</td>\n",
       "      <td>2175.000000</td>\n",
       "      <td>1980.000000</td>\n",
       "      <td>5.450000</td>\n",
       "      <td>0.000000</td>\n",
       "      <td>0.000000</td>\n",
       "      <td>0.000000</td>\n",
       "      <td>0.000000</td>\n",
       "      <td>0.000000</td>\n",
       "      <td>0.000000</td>\n",
       "      <td>1.000000</td>\n",
       "    </tr>\n",
       "    <tr>\n",
       "      <th>50%</th>\n",
       "      <td>512.000000</td>\n",
       "      <td>101.000000</td>\n",
       "      <td>98.000000</td>\n",
       "      <td>4560.000000</td>\n",
       "      <td>1987.000000</td>\n",
       "      <td>8.530000</td>\n",
       "      <td>0.000000</td>\n",
       "      <td>0.000000</td>\n",
       "      <td>0.000000</td>\n",
       "      <td>0.000000</td>\n",
       "      <td>0.000000</td>\n",
       "      <td>0.000000</td>\n",
       "      <td>1.000000</td>\n",
       "    </tr>\n",
       "    <tr>\n",
       "      <th>75%</th>\n",
       "      <td>769.000000</td>\n",
       "      <td>238.000000</td>\n",
       "      <td>223.000000</td>\n",
       "      <td>5433.000000</td>\n",
       "      <td>1992.000000</td>\n",
       "      <td>12.820000</td>\n",
       "      <td>0.000000</td>\n",
       "      <td>0.000000</td>\n",
       "      <td>0.000000</td>\n",
       "      <td>0.000000</td>\n",
       "      <td>0.000000</td>\n",
       "      <td>0.000000</td>\n",
       "      <td>1.000000</td>\n",
       "    </tr>\n",
       "    <tr>\n",
       "      <th>max</th>\n",
       "      <td>1583.000000</td>\n",
       "      <td>427.000000</td>\n",
       "      <td>427.000000</td>\n",
       "      <td>7196.000000</td>\n",
       "      <td>2001.000000</td>\n",
       "      <td>26.380000</td>\n",
       "      <td>1.000000</td>\n",
       "      <td>1.000000</td>\n",
       "      <td>1.000000</td>\n",
       "      <td>1.000000</td>\n",
       "      <td>1.000000</td>\n",
       "      <td>1.000000</td>\n",
       "      <td>1.000000</td>\n",
       "    </tr>\n",
       "  </tbody>\n",
       "</table>\n",
       "</div>"
      ],
      "text/plain": [
       "       trip_duration_sec  start_station_id  end_station_id        bike_id  \\\n",
       "count      946842.000000     946842.000000   946842.000000  946842.000000   \n",
       "mean          578.960272        138.468291      135.722913    3891.877124   \n",
       "std           324.429294        112.670023      111.868923    1972.289709   \n",
       "min            61.000000          3.000000        3.000000      11.000000   \n",
       "25%           327.000000         47.000000       44.000000    2175.000000   \n",
       "50%           512.000000        101.000000       98.000000    4560.000000   \n",
       "75%           769.000000        238.000000      223.000000    5433.000000   \n",
       "max          1583.000000        427.000000      427.000000    7196.000000   \n",
       "\n",
       "       member_birth_year  trip_duration_min    month_April  month_Februrary  \\\n",
       "count      946842.000000      946842.000000  946842.000000    946842.000000   \n",
       "mean         1984.673319           9.649340       0.226212         0.176227   \n",
       "std            10.045458           5.407152       0.418378         0.381013   \n",
       "min          1878.000000           1.020000       0.000000         0.000000   \n",
       "25%          1980.000000           5.450000       0.000000         0.000000   \n",
       "50%          1987.000000           8.530000       0.000000         0.000000   \n",
       "75%          1992.000000          12.820000       0.000000         0.000000   \n",
       "max          2001.000000          26.380000       1.000000         1.000000   \n",
       "\n",
       "       month_January    month_March      month_May  user_type_Customer  \\\n",
       "count  946842.000000  946842.000000  946842.000000       946842.000000   \n",
       "mean        0.182460       0.241813       0.173288            0.098418   \n",
       "std         0.386224       0.428182       0.378496            0.297879   \n",
       "min         0.000000       0.000000       0.000000            0.000000   \n",
       "25%         0.000000       0.000000       0.000000            0.000000   \n",
       "50%         0.000000       0.000000       0.000000            0.000000   \n",
       "75%         0.000000       0.000000       0.000000            0.000000   \n",
       "max         1.000000       1.000000       1.000000            1.000000   \n",
       "\n",
       "       user_type_Subscriber  \n",
       "count         946842.000000  \n",
       "mean               0.901582  \n",
       "std                0.297879  \n",
       "min                0.000000  \n",
       "25%                1.000000  \n",
       "50%                1.000000  \n",
       "75%                1.000000  \n",
       "max                1.000000  "
      ]
     },
     "execution_count": 4,
     "metadata": {},
     "output_type": "execute_result"
    }
   ],
   "source": [
    "bike.describe()"
   ]
  },
  {
   "cell_type": "code",
   "execution_count": 5,
   "metadata": {},
   "outputs": [
    {
     "data": {
      "text/plain": [
       "<matplotlib.axes._subplots.AxesSubplot at 0x101c0c6d8>"
      ]
     },
     "execution_count": 5,
     "metadata": {},
     "output_type": "execute_result"
    },
    {
     "data": {
      "image/png": "[encoded data removed]",
      "text/plain": [
       "<Figure size 576x396 with 1 Axes>"
      ]
     },
     "metadata": {},
     "output_type": "display_data"
    }
   ],
   "source": [
    "bike.bg.value_counts().plot(kind='bar')"
   ]
  },
  {
   "cell_type": "code",
   "execution_count": 6,
   "metadata": {},
   "outputs": [
    {
     "data": {
      "text/plain": [
       "<matplotlib.axes._subplots.AxesSubplot at 0x1a236f1c88>"
      ]
     },
     "execution_count": 6,
     "metadata": {},
     "output_type": "execute_result"
    },
    {
     "data": {
      "image/png": "[encoded data removed]",
      "text/plain": [
       "<Figure size 576x396 with 1 Axes>"
      ]
     },
     "metadata": {},
     "output_type": "display_data"
    }
   ],
   "source": [
    "bike.user_type_Customer.value_counts().plot(kind='bar')"
   ]
  },
  {
   "cell_type": "code",
   "execution_count": 7,
   "metadata": {},
   "outputs": [
    {
     "data": {
      "text/plain": [
       "<matplotlib.axes._subplots.AxesSubplot at 0x1a1afdcb70>"
      ]
     },
     "execution_count": 7,
     "metadata": {},
     "output_type": "execute_result"
    },
    {
     "data": {
      "image/png": "[encoded data removed]",
      "text/plain": [
       "<Figure size 576x396 with 1 Axes>"
      ]
     },
     "metadata": {},
     "output_type": "display_data"
    }
   ],
   "source": [
    "bike.user_type_Subscriber.value_counts().plot(kind='bar')"
   ]
  },
  {
   "cell_type": "code",
   "execution_count": 8,
   "metadata": {},
   "outputs": [
    {
     "data": {
      "text/plain": [
       "<matplotlib.axes._subplots.AxesSubplot at 0x1a1b10c828>"
      ]
     },
     "execution_count": 8,
     "metadata": {},
     "output_type": "execute_result"
    },
    {
     "data": {
      "image/png": "[encoded data removed]",
      "text/plain": [
       "<Figure size 576x396 with 1 Axes>"
      ]
     },
     "metadata": {},
     "output_type": "display_data"
    }
   ],
   "source": [
    "bike.trip_duration_min.plot(kind='hist')"
   ]
  },
  {
   "cell_type": "code",
   "execution_count": 9,
   "metadata": {},
   "outputs": [
    {
     "data": {
      "text/plain": [
       "<matplotlib.axes._subplots.AxesSubplot at 0x1a19a2ad68>"
      ]
     },
     "execution_count": 9,
     "metadata": {},
     "output_type": "execute_result"
    },
    {
     "data": {
      "image/png": "[encoded data removed]",
      "text/plain": [
       "<Figure size 576x396 with 1 Axes>"
      ]
     },
     "metadata": {},
     "output_type": "display_data"
    }
   ],
   "source": [
    "bike.member_birth_year.plot(kind='hist')"
   ]
  },
  {
   "cell_type": "markdown",
   "metadata": {},
   "source": [
    "<font size=\"5\"><span style=\"color:red\"> What other visualizations could/should we create?</span></font>"
   ]
  },
  {
   "cell_type": "markdown",
   "metadata": {},
   "source": [
    "## Start with a Baseline/Dummy Model\n",
    "\n",
    "First we are going to start with a dummy model to predict if the user was a brogrammer.  In our dummy model we classify everything as the majority class.  \n",
    "https://scikit-learn.org/stable/modules/generated/sklearn.dummy.DummyClassifier.html"
   ]
  },
  {
   "cell_type": "code",
   "execution_count": 10,
   "metadata": {},
   "outputs": [],
   "source": [
    "#set random state for our notebook\n",
    "import numpy as np\n",
    "np.random.seed(107)\n",
    "\n",
    "#set brogrammer as the target and use all other features as \n",
    "y = bike['bg']\n",
    "#set features to all variables except brogrammer and trip in seconds\n",
    "X = bike.drop(['bg', 'trip_duration_sec'], axis=1)"
   ]
  },
  {
   "cell_type": "code",
   "execution_count": 11,
   "metadata": {},
   "outputs": [],
   "source": [
    "#split our data into test and train\n",
    "X_train, X_test, y_train, y_test = train_test_split(X, y, stratify=y, test_size=.3 )"
   ]
  },
  {
   "cell_type": "code",
   "execution_count": 12,
   "metadata": {},
   "outputs": [
    {
     "name": "stdout",
     "output_type": "stream",
     "text": [
      "(662789, 12)\n",
      "(662789,)\n",
      "(284053, 12)\n",
      "(284053,)\n"
     ]
    }
   ],
   "source": [
    "#check out the shape of our data\n",
    "print(X_train.shape)\n",
    "print(y_train.shape)\n",
    "print(X_test.shape)\n",
    "print(y_test.shape)"
   ]
  },
  {
   "cell_type": "code",
   "execution_count": 13,
   "metadata": {},
   "outputs": [
    {
     "data": {
      "text/plain": [
       "0.7463340520135368"
      ]
     },
     "execution_count": 13,
     "metadata": {},
     "output_type": "execute_result"
    }
   ],
   "source": [
    "# DummyClassifier to predict only target 0\n",
    "dummy = DummyClassifier(strategy='most_frequent').fit(X_train, y_train)\n",
    "dummy.fit(X_train, y_train)\n",
    "dummy.score(X_train, y_train)"
   ]
  },
  {
   "cell_type": "markdown",
   "metadata": {},
   "source": [
    "<font size=\"5\"><span style=\"color:red\"> What does the \"score\" from the dummy classifier tell us about the predictive quality of our model?</span></font>"
   ]
  },
  {
   "cell_type": "markdown",
   "metadata": {},
   "source": [
    "The score from the classifier tells us that 75% of our test data was correctly classified."
   ]
  },
  {
   "cell_type": "markdown",
   "metadata": {},
   "source": [
    "#### Now  let's create a nice looking confusion matrix using the yellowbrick package\n",
    "[yellowbrick documentation](https://www.scikit-yb.org/en/latest/api/classifier/confusion_matrix.html)"
   ]
  },
  {
   "cell_type": "code",
   "execution_count": 14,
   "metadata": {},
   "outputs": [
    {
     "name": "stderr",
     "output_type": "stream",
     "text": [
      "/anaconda3/lib/python3.7/site-packages/sklearn/base.py:197: FutureWarning: From version 0.24, get_params will raise an AttributeError if a parameter cannot be retrieved as an instance attribute. Previously it would return None.\n",
      "  FutureWarning)\n",
      "/anaconda3/lib/python3.7/site-packages/yellowbrick/classifier/base.py:232: YellowbrickWarning: could not determine class_counts_ from previously fitted classifier\n",
      "  YellowbrickWarning,\n"
     ]
    },
    {
     "data": {
      "text/plain": [
       "0.7463340520135368"
      ]
     },
     "execution_count": 14,
     "metadata": {},
     "output_type": "execute_result"
    },
    {
     "data": {
      "image/png": "[encoded data removed]",
      "text/plain": [
       "<Figure size 576x396 with 1 Axes>"
      ]
     },
     "metadata": {},
     "output_type": "display_data"
    }
   ],
   "source": [
    "cm = ConfusionMatrix(dummy)\n",
    "\n",
    "# To create the ConfusionMatrix, we need some test data. Score runs predict() on the data\n",
    "# and then creates the confusion_matrix from scikit-learn.\n",
    "cm.score(X_train, y_train)\n"
   ]
  },
  {
   "cell_type": "markdown",
   "metadata": {},
   "source": [
    "<font size=\"5\"><span style=\"color:red\"> What does this confusion matrix tell us about what the dummy classifier did?</span></font>"
   ]
  },
  {
   "cell_type": "markdown",
   "metadata": {},
   "source": [
    "The dummy classifier classified all test data as brogrammer.  "
   ]
  },
  {
   "cell_type": "markdown",
   "metadata": {},
   "source": [
    "## Your Turn: Fitting a Vanilla Model\n",
    "\n",
    "Now that we know what our dummy/baseline classifier does we are going to fit a vanilla decision tree model to predict if the user was a brogrammer.\n",
    "\n",
    "Do the following in your group then answer the questions:\n",
    "\n",
    "1. Create a vanilla decision tree model and fit it to your training data\n",
    "2. Print the accuracy score of this prediction\n",
    "3. Print a confusion matrix for your training data\n",
    "4. Print a classification report for the model\n",
    "\n",
    "**BONUS**:  Repeat the above steps using a Naive Bayes classifier. Compare and contrast the two models."
   ]
  },
  {
   "cell_type": "code",
   "execution_count": 15,
   "metadata": {},
   "outputs": [],
   "source": [
    "# your code here"
   ]
  },
  {
   "cell_type": "code",
   "execution_count": 16,
   "metadata": {},
   "outputs": [
    {
     "data": {
      "text/plain": [
       "0.9999984912242056"
      ]
     },
     "execution_count": 16,
     "metadata": {},
     "output_type": "execute_result"
    }
   ],
   "source": [
    "#__SOLUTION__\n",
    "clf_DT = DecisionTreeClassifier()\n",
    "clf_DT.fit(X_train, y_train)\n",
    "clf_DT.score(X_train, y_train)"
   ]
  },
  {
   "cell_type": "code",
   "execution_count": 17,
   "metadata": {},
   "outputs": [
    {
     "name": "stderr",
     "output_type": "stream",
     "text": [
      "/anaconda3/lib/python3.7/site-packages/sklearn/base.py:197: FutureWarning: From version 0.24, get_params will raise an AttributeError if a parameter cannot be retrieved as an instance attribute. Previously it would return None.\n",
      "  FutureWarning)\n",
      "/anaconda3/lib/python3.7/site-packages/yellowbrick/classifier/base.py:232: YellowbrickWarning: could not determine class_counts_ from previously fitted classifier\n",
      "  YellowbrickWarning,\n"
     ]
    },
    {
     "data": {
      "text/plain": [
       "0.9999984912242056"
      ]
     },
     "execution_count": 17,
     "metadata": {},
     "output_type": "execute_result"
    },
    {
     "data": {
      "image/png": "[encoded data removed]",
      "text/plain": [
       "<Figure size 576x396 with 1 Axes>"
      ]
     },
     "metadata": {},
     "output_type": "display_data"
    }
   ],
   "source": [
    "#__SOLUTION__\n",
    "\n",
    "cm = ConfusionMatrix(clf_DT)\n",
    "\n",
    "# To create the ConfusionMatrix, we need some test data. Score runs predict() on the data\n",
    "# and then creates the confusion_matrix from scikit-learn.\n",
    "cm.score(X_train, y_train)"
   ]
  },
  {
   "cell_type": "code",
   "execution_count": 18,
   "metadata": {},
   "outputs": [
    {
     "name": "stdout",
     "output_type": "stream",
     "text": [
      "              precision    recall  f1-score   support\n",
      "\n",
      "  Brogrammer       1.00      1.00      1.00    494662\n",
      " Nice_person       1.00      1.00      1.00    168127\n",
      "\n",
      "    accuracy                           1.00    662789\n",
      "   macro avg       1.00      1.00      1.00    662789\n",
      "weighted avg       1.00      1.00      1.00    662789\n",
      "\n"
     ]
    }
   ],
   "source": [
    "y_pred=clf_DT.predict(X_train)\n",
    "print(classification_report(y_train, y_pred))"
   ]
  },
  {
   "cell_type": "markdown",
   "metadata": {},
   "source": [
    "<font size=\"5\"><span style=\"color:red\"> 1. What does the \"score\" from the decision tree classifier tell us about the predictive quality of our model?</span></font>"
   ]
  },
  {
   "cell_type": "markdown",
   "metadata": {},
   "source": [
    "**Your answer here**"
   ]
  },
  {
   "cell_type": "markdown",
   "metadata": {},
   "source": [
    "The score from the classifier tells us that 99% of our training data was correctly classified."
   ]
  },
  {
   "cell_type": "markdown",
   "metadata": {},
   "source": [
    "<font size=\"5\"><span style=\"color:red\"> 2. According to confusion matrix, how well did our decision tree classifier do?</span></font>"
   ]
  },
  {
   "cell_type": "markdown",
   "metadata": {},
   "source": [
    "**Your answer here**"
   ]
  },
  {
   "cell_type": "markdown",
   "metadata": {},
   "source": [
    "Our model only wrongly classified one data point!  We are probably overfitting here."
   ]
  },
  {
   "cell_type": "markdown",
   "metadata": {},
   "source": [
    "<font size=\"5\"><span style=\"color:red\">3. According to classification report, how well did our decision tree classifier do?</span></font>"
   ]
  },
  {
   "cell_type": "markdown",
   "metadata": {},
   "source": [
    "**Your answer here**"
   ]
  },
  {
   "cell_type": "markdown",
   "metadata": {},
   "source": [
    "Same thing here.  We did a nearly perfect job at classifying our data.  Overfitting for sure!"
   ]
  },
  {
   "cell_type": "markdown",
   "metadata": {
    "ExecuteTime": {
     "end_time": "2019-11-07T20:52:52.092683Z",
     "start_time": "2019-11-07T20:52:52.090712Z"
    },
    "heading_collapsed": true
   },
   "source": [
    "## Now onto Grid Search: Find the best hyperparameters for us!"
   ]
  },
  {
   "cell_type": "markdown",
   "metadata": {
    "hidden": true
   },
   "source": [
    "https://scikit-learn.org/stable/modules/generated/sklearn.model_selection.GridSearchCV.html"
   ]
  },
  {
   "cell_type": "markdown",
   "metadata": {
    "hidden": true
   },
   "source": [
    "A way for us to search over multiple hyperparameters for the given model to see if we can increase the accuracy of our model by \"tuning\" our hyperparameters in our decision tree model."
   ]
  },
  {
   "cell_type": "code",
   "execution_count": 19,
   "metadata": {},
   "outputs": [
    {
     "data": {
      "text/plain": [
       "{'max_depth': 5,\n",
       " 'max_features': 3,\n",
       " 'min_samples_leaf': 4,\n",
       " 'min_samples_split': 8}"
      ]
     },
     "execution_count": 19,
     "metadata": {},
     "output_type": "execute_result"
    }
   ],
   "source": [
    "#first we set up a grid of hyperparameters we want to \"search over\"\n",
    "param_grid = {\n",
    "    'max_depth': [2, 5],\n",
    "    'max_features': [2, 3],\n",
    "    'min_samples_leaf': [3, 4],\n",
    "    'min_samples_split': [8, 10],\n",
    "}\n",
    "\n",
    "#then we conduct the \"search\"\n",
    "gs = GridSearchCV(estimator = clf_DT, param_grid = param_grid, \n",
    "                          cv = 5)\n",
    "gs.fit(X_train, y_train)\n",
    "#finally we find the best hyperparameters\n",
    "gs.best_params_"
   ]
  },
  {
   "cell_type": "markdown",
   "metadata": {},
   "source": [
    "###  WOW that took a while!!  Is there an easier way than just waiting for this to run?\n",
    "\n",
    "## Luckily there is!  Let's check out the RandomizedSearchCV feature in sklearn\n",
    "https://scikit-learn.org/stable/modules/generated/sklearn.model_selection.RandomizedSearchCV.html\n"
   ]
  },
  {
   "cell_type": "code",
   "execution_count": 20,
   "metadata": {},
   "outputs": [
    {
     "data": {
      "text/plain": [
       "{'min_samples_split': 8,\n",
       " 'min_samples_leaf': 3,\n",
       " 'max_features': 2,\n",
       " 'max_depth': 2}"
      ]
     },
     "execution_count": 20,
     "metadata": {},
     "output_type": "execute_result"
    }
   ],
   "source": [
    "#we can use the same exact param_grid we have already defined\n",
    "param_grid = {\n",
    "    'max_depth': [2, 5],\n",
    "    'max_features': [2, 3],\n",
    "    'min_samples_leaf': [3, 4],\n",
    "    'min_samples_split': [8, 10],\n",
    "}\n",
    "\n",
    "#then we conduct the \"search\"\n",
    "rs = RandomizedSearchCV(estimator = clf_DT,  param_distributions = param_grid, \n",
    "                          cv = 5)\n",
    "rs.fit(X_train, y_train)\n",
    "#finally we find the best hyperparameters\n",
    "rs.best_params_"
   ]
  },
  {
   "cell_type": "markdown",
   "metadata": {},
   "source": [
    "### Great, that ran a bit faster.  But wait...why are our best params different now????\n",
    "\n",
    "In contrast to GridSearchCV, not all parameter values are tried out, but rather a fixed number of parameter settings is sampled from the specified distributions. The number of parameter settings that are tried is given by n_iter."
   ]
  },
  {
   "cell_type": "markdown",
   "metadata": {},
   "source": [
    "## Fitting our Decision Tree Using Best Hyperparameters"
   ]
  },
  {
   "cell_type": "code",
   "execution_count": 21,
   "metadata": {},
   "outputs": [
    {
     "data": {
      "text/plain": [
       "0.7463340520135368"
      ]
     },
     "execution_count": 21,
     "metadata": {},
     "output_type": "execute_result"
    }
   ],
   "source": [
    "#save our best model from the grid search\n",
    "best_DT=gs.best_estimator_\n",
    "\n",
    "#fit the data using the best model and look at the score given test data\n",
    "best_DT.fit(X_train, y_train)\n",
    "best_DT.score(X_train, y_train)"
   ]
  },
  {
   "cell_type": "markdown",
   "metadata": {},
   "source": [
    "<font size=\"5\"><span style=\"color:red\"> Our vanilla model had an accuracy score of 99%.  How did our tuned model do in comparison?</span></font>"
   ]
  },
  {
   "cell_type": "markdown",
   "metadata": {},
   "source": [
    "Looks like our tuned model actually did worse than our vanilla model in overall accuracy. But it likely now isn't overfitting our data!"
   ]
  },
  {
   "cell_type": "code",
   "execution_count": 22,
   "metadata": {},
   "outputs": [
    {
     "name": "stderr",
     "output_type": "stream",
     "text": [
      "/anaconda3/lib/python3.7/site-packages/sklearn/base.py:197: FutureWarning: From version 0.24, get_params will raise an AttributeError if a parameter cannot be retrieved as an instance attribute. Previously it would return None.\n",
      "  FutureWarning)\n",
      "/anaconda3/lib/python3.7/site-packages/yellowbrick/classifier/base.py:232: YellowbrickWarning: could not determine class_counts_ from previously fitted classifier\n",
      "  YellowbrickWarning,\n"
     ]
    },
    {
     "data": {
      "text/plain": [
       "0.7463340520135368"
      ]
     },
     "execution_count": 22,
     "metadata": {},
     "output_type": "execute_result"
    },
    {
     "data": {
      "image/png": "[encoded data removed]",
      "text/plain": [
       "<Figure size 576x396 with 1 Axes>"
      ]
     },
     "metadata": {},
     "output_type": "display_data"
    }
   ],
   "source": [
    "cm = ConfusionMatrix(best_DT)\n",
    "\n",
    "# To create the ConfusionMatrix, we need some test data. Score runs predict() on the data\n",
    "# and then creates the confusion_matrix from scikit-learn.\n",
    "cm.score(X_train, y_train)\n"
   ]
  },
  {
   "cell_type": "markdown",
   "metadata": {},
   "source": [
    "<font size=\"5\"><span style=\"color:red\"> According to confusion matrix, how well did our decision tree classifier do?</span></font>"
   ]
  },
  {
   "cell_type": "markdown",
   "metadata": {},
   "source": [
    "Wow, this confusion matrix is the same as our dummy classifier! That's not what we want!"
   ]
  },
  {
   "cell_type": "code",
   "execution_count": 23,
   "metadata": {},
   "outputs": [
    {
     "name": "stderr",
     "output_type": "stream",
     "text": [
      "/anaconda3/lib/python3.7/site-packages/sklearn/metrics/_classification.py:1272: UndefinedMetricWarning: Precision and F-score are ill-defined and being set to 0.0 in labels with no predicted samples. Use `zero_division` parameter to control this behavior.\n",
      "  _warn_prf(average, modifier, msg_start, len(result))\n"
     ]
    },
    {
     "name": "stdout",
     "output_type": "stream",
     "text": [
      "              precision    recall  f1-score   support\n",
      "\n",
      "  Brogrammer       0.75      1.00      0.85    494662\n",
      " Nice_person       0.00      0.00      0.00    168127\n",
      "\n",
      "    accuracy                           0.75    662789\n",
      "   macro avg       0.37      0.50      0.43    662789\n",
      "weighted avg       0.56      0.75      0.64    662789\n",
      "\n"
     ]
    }
   ],
   "source": [
    "y_pred=best_DT.predict(X_train)\n",
    "print(classification_report(y_train, y_pred))"
   ]
  },
  {
   "cell_type": "markdown",
   "metadata": {},
   "source": [
    "<font size=\"5\"><span style=\"color:red\"> According to classification report, how well did our decision tree classifier do?</span></font>"
   ]
  },
  {
   "cell_type": "markdown",
   "metadata": {},
   "source": [
    "Again, this confirms that we essentially went back to the dummy model where we classified everything as the majority class."
   ]
  },
  {
   "cell_type": "markdown",
   "metadata": {},
   "source": [
    "## Pipelines and hyperparameter searching!\n",
    "\n",
    "Yes, let's go back to that concept of a pipeline.  We established using pipelines is important when we our transforming our data and using cross validation (which our gridsearch and randomized search are using).  "
   ]
  },
  {
   "cell_type": "code",
   "execution_count": 24,
   "metadata": {},
   "outputs": [
    {
     "data": {
      "text/plain": [
       "GridSearchCV(cv=5, error_score=nan,\n",
       "             estimator=Pipeline(memory=None,\n",
       "                                steps=[('standardscaler',\n",
       "                                        StandardScaler(copy=True,\n",
       "                                                       with_mean=True,\n",
       "                                                       with_std=True)),\n",
       "                                       ('decisiontreeclassifier',\n",
       "                                        DecisionTreeClassifier(ccp_alpha=0.0,\n",
       "                                                               class_weight=None,\n",
       "                                                               criterion='gini',\n",
       "                                                               max_depth=None,\n",
       "                                                               max_features=None,\n",
       "                                                               max_leaf_nodes=None,\n",
       "                                                               min_impurity_decrease=0.0,\n",
       "                                                               min_impurity_split=None,\n",
       "                                                               min...\n",
       "                                                               random_state=None,\n",
       "                                                               splitter='best'))],\n",
       "                                verbose=False),\n",
       "             iid='deprecated', n_jobs=None,\n",
       "             param_grid={'decisiontreeclassifier__max_depth': [2, 5],\n",
       "                         'decisiontreeclassifier__max_features': [2, 3],\n",
       "                         'decisiontreeclassifier__min_samples_leaf': [3, 4],\n",
       "                         'decisiontreeclassifier__min_samples_split': [8, 10]},\n",
       "             pre_dispatch='2*n_jobs', refit=True, return_train_score=False,\n",
       "             scoring=None, verbose=0)"
      ]
     },
     "execution_count": 24,
     "metadata": {},
     "output_type": "execute_result"
    }
   ],
   "source": [
    "#set up our pipe, even though ss isn't necessary here let's add it \n",
    "#just to see how the pipe works\n",
    "pipe = make_pipeline(StandardScaler(), DecisionTreeClassifier())\n",
    "\n",
    "\n",
    "#we can use the same exact param_grid we have already defined\n",
    "param_grid = {\n",
    "    'decisiontreeclassifier__max_depth': [2, 5],\n",
    "    'decisiontreeclassifier__max_features': [2, 3],\n",
    "    'decisiontreeclassifier__min_samples_leaf': [3, 4],\n",
    "    'decisiontreeclassifier__min_samples_split': [8, 10],\n",
    "}\n",
    "\n",
    "#now use our pipe in our grid search\n",
    "gridsearch_pipe = GridSearchCV(pipe, \n",
    "                          param_grid = param_grid,\n",
    "                          cv = 5)\n",
    "\n",
    "gridsearch_pipe.fit(X_train, y_train)"
   ]
  },
  {
   "cell_type": "code",
   "execution_count": 25,
   "metadata": {},
   "outputs": [
    {
     "data": {
      "text/plain": [
       "0.7463476309956865"
      ]
     },
     "execution_count": 25,
     "metadata": {},
     "output_type": "execute_result"
    }
   ],
   "source": [
    "#save our best model from the grid search\n",
    "best_pipe=gridsearch_pipe.best_estimator_\n",
    "\n",
    "#fit the data using the best model and look at the score given test data\n",
    "best_pipe.fit(X_train, y_train)\n",
    "best_pipe.score(X_train, y_train)"
   ]
  },
  {
   "cell_type": "code",
   "execution_count": 26,
   "metadata": {},
   "outputs": [
    {
     "name": "stderr",
     "output_type": "stream",
     "text": [
      "/anaconda3/lib/python3.7/site-packages/sklearn/base.py:197: FutureWarning: From version 0.24, get_params will raise an AttributeError if a parameter cannot be retrieved as an instance attribute. Previously it would return None.\n",
      "  FutureWarning)\n",
      "/anaconda3/lib/python3.7/site-packages/yellowbrick/classifier/base.py:232: YellowbrickWarning: could not determine class_counts_ from previously fitted classifier\n",
      "  YellowbrickWarning,\n"
     ]
    },
    {
     "data": {
      "text/plain": [
       "0.7463476309956865"
      ]
     },
     "execution_count": 26,
     "metadata": {},
     "output_type": "execute_result"
    },
    {
     "data": {
      "image/png": "[encoded data removed]",
      "text/plain": [
       "<Figure size 576x396 with 1 Axes>"
      ]
     },
     "metadata": {},
     "output_type": "display_data"
    }
   ],
   "source": [
    "cm = ConfusionMatrix(best_pipe)\n",
    "\n",
    "# To create the ConfusionMatrix, we need some test data. Score runs predict() on the data\n",
    "# and then creates the confusion_matrix from scikit-learn.\n",
    "cm.score(X_train, y_train)\n"
   ]
  },
  {
   "cell_type": "markdown",
   "metadata": {},
   "source": [
    "<font size=\"5\"><span style=\"color:red\"> Does this mean that hyperparameter tuning isn't good?  What can we do now?</span></font>"
   ]
  },
  {
   "cell_type": "markdown",
   "metadata": {},
   "source": [
    "We have lots of options to move forward and increase our classification.  We can:\n",
    "- **try a different classification model**\n",
    "- **tune other hyperparameters in our decision tree model**\n",
    "- **try balancing our classes**\n",
    "- add more data\n",
    "- add new features- maybe we don't have ones that are very predictive"
   ]
  },
  {
   "cell_type": "markdown",
   "metadata": {},
   "source": [
    "<font size=\"5\"><span style=\"color:red\"> Your Turn:  Now work in small groups to take one of the above next steps to increase the classification of brogrammers! </span></font>\n",
    "\n",
    "**When you have selected your VERY BEST Model then use the test data to see how it did!**"
   ]
  },
  {
   "cell_type": "code",
   "execution_count": null,
   "metadata": {},
   "outputs": [],
   "source": []
  }
 ],
 "metadata": {
  "kernelspec": {
   "display_name": "Python 3",
   "language": "python",
   "name": "python3"
  },
  "language_info": {
   "codemirror_mode": {
    "name": "ipython",
    "version": 3
   },
   "file_extension": ".py",
   "mimetype": "text/x-python",
   "name": "python",
   "nbconvert_exporter": "python",
   "pygments_lexer": "ipython3",
   "version": "3.7.3"
  }
 },
 "nbformat": 4,
 "nbformat_minor": 4
}

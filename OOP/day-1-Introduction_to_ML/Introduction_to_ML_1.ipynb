{
 "cells": [
  {
   "cell_type": "markdown",
   "metadata": {},
   "source": [
    "# Agenda \n",
    "\n",
    "- Overview of Object Oriented Programming.\n",
    "\n",
    "- Defining a class and instantiating objects.\n",
    "\n",
    "- Methods, attributes and inheritance in OOP\n",
    "\n",
    "- Examples from sklearn\n",
    "\n"
   ]
  },
  {
   "cell_type": "markdown",
   "metadata": {},
   "source": [
    "## Object Oriented Programming"
   ]
  },
  {
   "cell_type": "markdown",
   "metadata": {},
   "source": [
    "__What is programming__?\n",
    "\n",
    "<img src='images/programming.png' width= 400>\n",
    "\n",
    "[Images Source: p174](https://www.py4e.com/book)\n",
    "\n",
    "\n",
    "But a program can be relatively complicated:\n",
    "\n",
    "__If this program doesn't run in your notebook don't try to fix it__\n",
    "\n"
   ]
  },
  {
   "cell_type": "code",
   "execution_count": 3,
   "metadata": {
    "scrolled": true
   },
   "outputs": [
    {
     "name": "stdout",
     "output_type": "stream",
     "text": [
      "Enter - https://en.wikipedia.org/wiki/Object-oriented_programming\n",
      "None\n",
      "#mw-head\n",
      "#p-search\n",
      "/wiki/Object-orientation\n",
      "/wiki/List_of_object-oriented_programming_languages\n"
     ]
    }
   ],
   "source": [
    "import urllib.request, urllib.parse, urllib.error\n",
    "from bs4 import BeautifulSoup\n",
    "import ssl\n",
    "\n",
    "# Ignore SSL certificate errors\n",
    "ctx = ssl.create_default_context()\n",
    "ctx.check_hostname = False\n",
    "ctx.verify_mode = ssl.CERT_NONE\n",
    "\n",
    "url = input('Enter - ')\n",
    "html = urllib.request.urlopen(url, context=ctx).read()\n",
    "soup = BeautifulSoup(html, 'html.parser')\n",
    "\n",
    "# Retrieve all of the anchor tags\n",
    "tags = soup('a')\n",
    "for tag in tags[:5]:\n",
    "    print(tag.get('href', None))\n"
   ]
  },
  {
   "cell_type": "markdown",
   "metadata": {},
   "source": [
    "[In case you get an error, check 'recurseuntilfor's answer](https://stackoverflow.com/questions/38447738/beautifulsoup-html5lib-module-object-has-no-attribute-base)"
   ]
  },
  {
   "cell_type": "markdown",
   "metadata": {},
   "source": [
    "<img src= \"images/network_of_objects.png\" width = 400>"
   ]
  },
  {
   "cell_type": "markdown",
   "metadata": {},
   "source": [
    "__What is object oriented programming__\n",
    "\n",
    "Object-oriented programming (OOP) is a programming paradigm based on the concept of \"objects\", which can contain data, in the form of fields (often known as attributes or properties), and code, in the form of procedures (often known as methods)."
   ]
  },
  {
   "cell_type": "markdown",
   "metadata": {},
   "source": [
    "__What are the other popular programming paradigms?__\n",
    "\n",
    "- There are many other programming paradigms. You can check them in this link: \n",
    "\n",
    "- [Wiki - Programming Paradigms](https://en.wikipedia.org/wiki/Programming_paradigm)\n",
    "- [Common Paradigms](https://cs.lmu.edu/~ray/notes/paradigms/)"
   ]
  },
  {
   "cell_type": "markdown",
   "metadata": {},
   "source": [
    "__Then what is an object__?\n",
    "\n",
    "- At a basic level, an object is simply some code plus data structures that are smaller than a whole program.\n",
    "\n",
    "- An object can contain a number of functions (which we call methods) as well as data that is used by those functions. We call data items that are part of the object attributes."
   ]
  },
  {
   "cell_type": "markdown",
   "metadata": {},
   "source": [
    "## Building a Class "
   ]
  },
  {
   "cell_type": "markdown",
   "metadata": {},
   "source": [
    "Here we will create a class that count people's information and the number of parties they attended"
   ]
  },
  {
   "cell_type": "code",
   "execution_count": 21,
   "metadata": {},
   "outputs": [],
   "source": [
    "class PartyCount:\n",
    "    # count is an attribute - it contains data\n",
    "    count = 0\n",
    "    \n",
    "    \n",
    "    def __init__(self):\n",
    "        print('A PartyCount object constructed')\n",
    "        \n",
    "    # party is a method of this class - it defines a procedure\n",
    "    def party(self):\n",
    "        self.count = self.count+1\n",
    "        print(\"So far\", self.count)"
   ]
  },
  {
   "cell_type": "markdown",
   "metadata": {},
   "source": [
    "[For naming Conventions and terminology](https://en.wikipedia.org/wiki/Camel_case)"
   ]
  },
  {
   "cell_type": "code",
   "execution_count": 22,
   "metadata": {},
   "outputs": [
    {
     "name": "stdout",
     "output_type": "stream",
     "text": [
      "A PartyCount object constructed\n"
     ]
    }
   ],
   "source": [
    "## let's create murat_party_info object. \n",
    "murat_party_info = PartyCount()"
   ]
  },
  {
   "cell_type": "markdown",
   "metadata": {},
   "source": [
    "__Your Turn__\n",
    "\n",
    "- Make murat_party_info.count equals to 3 by calling party method.\n"
   ]
  },
  {
   "cell_type": "code",
   "execution_count": 84,
   "metadata": {},
   "outputs": [],
   "source": [
    "## your code here"
   ]
  },
  {
   "cell_type": "markdown",
   "metadata": {},
   "source": [
    "__On 'self' parameter__"
   ]
  },
  {
   "cell_type": "markdown",
   "metadata": {},
   "source": [
    "Note that \"party\" method has only one parameter, namely \"self\". When the \"party\" method is called, the first parameter (which we call by convention self) points to the particular instance of the PartyCount object that \"party\" is called from."
   ]
  },
  {
   "cell_type": "code",
   "execution_count": 20,
   "metadata": {},
   "outputs": [
    {
     "name": "stdout",
     "output_type": "stream",
     "text": [
      "So far 3\n"
     ]
    }
   ],
   "source": [
    "## note that using the self is the same thing as giving\n",
    "## the object itself in the method.\n",
    "\n",
    "PartyCount.party(murat_party_info)"
   ]
  },
  {
   "cell_type": "code",
   "execution_count": 83,
   "metadata": {},
   "outputs": [
    {
     "name": "stdout",
     "output_type": "stream",
     "text": [
      "<class 'method'>\n"
     ]
    }
   ],
   "source": [
    "print(type(murat_super.party))"
   ]
  },
  {
   "cell_type": "markdown",
   "metadata": {},
   "source": [
    "__Your Turn__\n",
    "\n",
    "- Now create an PartyCounter object with variable name: your_name_party_info."
   ]
  },
  {
   "cell_type": "code",
   "execution_count": 85,
   "metadata": {},
   "outputs": [],
   "source": [
    "## your code here"
   ]
  },
  {
   "cell_type": "code",
   "execution_count": 26,
   "metadata": {},
   "outputs": [],
   "source": [
    "class PartyCount:\n",
    "    # count is an attribute - it contains data\n",
    "    count = 0\n",
    "    # Add name attribute to the PartyCount object\n",
    "    # Note that by default name is empty\n",
    "    name = ''    \n",
    "    \n",
    "    def __init__(self, name):\n",
    "        self.name = name\n",
    "        print('{}: A PartyCount object constructed'.format(self.name))\n",
    "        \n",
    "    # party is a method of this class - it defines a procedure\n",
    "    def party(self):\n",
    "        self.count = self.count+1\n",
    "        print(\"So far\", self.count)"
   ]
  },
  {
   "cell_type": "code",
   "execution_count": 31,
   "metadata": {},
   "outputs": [
    {
     "name": "stdout",
     "output_type": "stream",
     "text": [
      "Murat: A PartyCount object constructed\n"
     ]
    }
   ],
   "source": [
    "murat = PartyCount('Murat')"
   ]
  },
  {
   "cell_type": "code",
   "execution_count": 86,
   "metadata": {},
   "outputs": [],
   "source": [
    "## Note that we can access the attributes of an object.\n",
    "## Also we can change them by assigning new values"
   ]
  },
  {
   "cell_type": "markdown",
   "metadata": {},
   "source": [
    "## Inheritance"
   ]
  },
  {
   "cell_type": "markdown",
   "metadata": {},
   "source": [
    "Another powerful feature of object-oriented programming is the ability to create a new class by extending an existing class. When extending a class, we call the original class the parent class and the new class the child class."
   ]
  },
  {
   "cell_type": "code",
   "execution_count": 71,
   "metadata": {},
   "outputs": [],
   "source": [
    "class SuperBowl(PartyCount):\n",
    "    supporting_team = ''\n",
    "    winning_team = 'Eagles'\n",
    "    def __init__(self,supporting_team, name):\n",
    "        self.name = name\n",
    "        self.supporting_team = supporting_team\n",
    "    def fun_factor(self):\n",
    "        if self.supporting_team == self.winning_team:\n",
    "            self.count +=2\n",
    "        else:\n",
    "            self.party()\n",
    "    "
   ]
  },
  {
   "cell_type": "code",
   "execution_count": 72,
   "metadata": {},
   "outputs": [
    {
     "name": "stdout",
     "output_type": "stream",
     "text": [
      "Murat: A PartyCount object constructed\n"
     ]
    }
   ],
   "source": [
    "murat = PartyCount('Murat')"
   ]
  },
  {
   "cell_type": "code",
   "execution_count": 73,
   "metadata": {},
   "outputs": [],
   "source": [
    "murat_super = SuperBowl('Eagles', 'Murat')"
   ]
  },
  {
   "cell_type": "code",
   "execution_count": 74,
   "metadata": {},
   "outputs": [],
   "source": [
    "murat_super.fun_factor()"
   ]
  },
  {
   "cell_type": "code",
   "execution_count": 76,
   "metadata": {},
   "outputs": [
    {
     "data": {
      "text/plain": [
       "2"
      ]
     },
     "execution_count": 76,
     "metadata": {},
     "output_type": "execute_result"
    }
   ],
   "source": [
    "murat_super.count"
   ]
  },
  {
   "cell_type": "markdown",
   "metadata": {},
   "source": [
    "## Some examples from sklearn"
   ]
  },
  {
   "cell_type": "markdown",
   "metadata": {},
   "source": [
    "[Sklearn Linear Regression Class](https://scikit-learn.org/stable/modules/generated/sklearn.linear_model.LinearRegression.html)\n",
    "\n",
    "[Module vs Class?](https://www.tutorialspoint.com/python/python_modules.htm)"
   ]
  },
  {
   "cell_type": "markdown",
   "metadata": {},
   "source": [
    "## Exit Ticket"
   ]
  },
  {
   "cell_type": "markdown",
   "metadata": {},
   "source": [
    "[Exit ticket for OOP](https://forms.gle/5BEztqXPEYvSJ5Ep6)"
   ]
  }
 ],
 "metadata": {
  "kernelspec": {
   "display_name": "Python 3",
   "language": "python",
   "name": "python3"
  },
  "language_info": {
   "codemirror_mode": {
    "name": "ipython",
    "version": 3
   },
   "file_extension": ".py",
   "mimetype": "text/x-python",
   "name": "python",
   "nbconvert_exporter": "python",
   "pygments_lexer": "ipython3",
   "version": "3.7.3"
  },
  "toc": {
   "base_numbering": 1,
   "nav_menu": {},
   "number_sections": true,
   "sideBar": true,
   "skip_h1_title": false,
   "title_cell": "Table of Contents",
   "title_sidebar": "Contents",
   "toc_cell": false,
   "toc_position": {
    "height": "calc(100% - 180px)",
    "left": "10px",
    "top": "150px",
    "width": "165px"
   },
   "toc_section_display": true,
   "toc_window_display": false
  }
 },
 "nbformat": 4,
 "nbformat_minor": 4
}
